{
 "cells": [
  {
   "cell_type": "markdown",
   "id": "ae117add",
   "metadata": {},
   "source": [
    "# Step 1: Data extraction"
   ]
  },
  {
   "cell_type": "markdown",
   "id": "b531c1fc",
   "metadata": {},
   "source": [
    "## - Setup (Import libraries)"
   ]
  },
  {
   "cell_type": "code",
   "execution_count": 7,
   "id": "47fe109d",
   "metadata": {},
   "outputs": [
    {
     "name": "stdout",
     "output_type": "stream",
     "text": [
      "BeautifulSoup and Pandas are already installed and imported\n"
     ]
    }
   ],
   "source": [
    "# Check if beautifulsoup and pandas are already installed\n",
    "# If not, install it and then import\n",
    "\n",
    "try:\n",
    "    from bs4 import BeautifulSoup\n",
    "    import pandas\n",
    "    print (\"BeautifulSoup and Pandas are already installed and imported\")\n",
    "except:\n",
    "    import sys\n",
    "    !conda install --yes --prefix {sys.prefix} bs4\n",
    "    !conda install --yes --prefix {sys.prefix} pandas\n",
    "    from bs4 import BeautifulSoup\n",
    "    import pandas\n",
    "    print (\"BeautifulSoup and Pandas were not found. Installed them and imported\")\n",
    "\n",
    "import requests"
   ]
  },
  {
   "cell_type": "markdown",
   "id": "f3c4d25e",
   "metadata": {},
   "source": [
    "## - Read the webpage and parse it with BeautifulSoup"
   ]
  },
  {
   "cell_type": "code",
   "execution_count": 8,
   "id": "e008f219",
   "metadata": {},
   "outputs": [
    {
     "name": "stdout",
     "output_type": "stream",
     "text": [
      "Webpage opened successfully...\n",
      "Webpage loaded and parsed successfully...\n"
     ]
    }
   ],
   "source": [
    "opened_webpage = requests.get(\"https://en.wikipedia.org/wiki/COVID-19_pandemic_in_Texas\")\n",
    "print (\"Webpage opened successfully...\")\n",
    "\n",
    "# Initialize a BeautifulSoup object to read and parse the webpage read\n",
    "# This is like calling the __init__ function in BeautifulSoup\n",
    "bs = BeautifulSoup(opened_webpage.content, \"html.parser\")\n",
    "print (\"Webpage loaded and parsed successfully...\")"
   ]
  },
  {
   "cell_type": "markdown",
   "id": "0a597dc2",
   "metadata": {},
   "source": [
    "## - Extract raw data from the wikipedia website"
   ]
  },
  {
   "cell_type": "code",
   "execution_count": 9,
   "id": "f04aefd0",
   "metadata": {},
   "outputs": [
    {
     "name": "stdout",
     "output_type": "stream",
     "text": [
      "['\\nAnderson\\n\\n7,336\\n\\n3,624\\n\\n10,960\\n\\n256\\n\\n24,776\\n\\n59,025\\n\\n18,568.4\\n', '\\nAndrews\\n\\n3,733\\n\\n1,357\\n\\n5,090\\n\\n74\\n\\n8,366\\n\\n19,279\\n\\n26,401.8\\n', '\\nAngelina\\n\\n9,891\\n\\n7,183\\n\\n17,074\\n\\n503\\n\\n40,498\\n\\n90,989\\n\\n18,764.9\\n', '\\nAransas\\n\\n4,131\\n\\n1,415\\n\\n5,546\\n\\n98\\n\\n14,327\\n\\n23,710\\n\\n23,391.0\\n', '\\nArcher\\n\\n2,310\\n\\n332\\n\\n2,642\\n\\n30\\n\\n4,235\\n\\n9,228\\n\\n28,630.3\\n', '\\nArmstrong\\n\\n442\\n\\n252\\n\\n694\\n\\n10\\n\\n727\\n\\n2,001\\n\\n34,682.7\\n', '\\nAtascosa\\n\\n12,493\\n\\n3,236\\n\\n15,729\\n\\n240\\n\\n26,017\\n\\n50,898\\n\\n30,903.0\\n', '\\nAustin\\n\\n5,461\\n\\n1,540\\n\\n7,001\\n\\n84\\n\\n15,048\\n\\n32,067\\n\\n21,832.4\\n', '\\nBailey\\n\\n1,046\\n\\n717\\n\\n1,763\\n\\n39\\n\\n2,723\\n\\n7,113\\n\\n24,785.6\\n', '\\nBandera\\n\\n3,039\\n\\n1,267\\n\\n4,306\\n\\n80\\n\\n10,399\\n\\n23,129\\n\\n18,617.3\\n', '\\nBastrop\\n\\n20,056\\n\\n7,244\\n\\n27,300\\n\\n254\\n\\n52,553\\n\\n89,564\\n\\n30,481.0\\n', '\\nBaylor\\n\\n393\\n\\n543\\n\\n936\\n\\n33\\n\\n1,476\\n\\n3,751\\n\\n24,953.3\\n', '\\nBee\\n\\n7,366\\n\\n2,609\\n\\n9,975\\n\\n155\\n\\n16,815\\n\\n33,471\\n\\n29,801.9\\n', '\\nBell\\n\\n66,523\\n\\n19,765\\n\\n86,288\\n\\n945\\n\\n163,770\\n\\n359,255\\n\\n24,018.6\\n', '\\nBexar\\n\\n566,483\\n\\n131,330\\n\\n697,813\\n\\n6,501\\n\\n1,332,284\\n\\n1,997,417\\n\\n34,935.8\\n', '\\nBlanco\\n\\n1,915\\n\\n1,302\\n\\n3,217\\n\\n35\\n\\n6,296\\n\\n12,159\\n\\n26,457.8\\n', '\\nBorden\\n\\n92\\n\\n32\\n\\n124\\n\\n2\\n\\n201\\n\\n680\\n\\n18,235.3\\n', '\\nBosque\\n\\n3,300\\n\\n1,591\\n\\n4,891\\n\\n76\\n\\n8,636\\n\\n19,062\\n\\n25,658.4\\n', '\\nBowie\\n\\n13,902\\n\\n10,750\\n\\n24,652\\n\\n455\\n\\n34,101\\n\\n96,380\\n\\n25,577.9\\n', '\\nBrazoria\\n\\n96,251\\n\\n20,715\\n\\n116,966\\n\\n1,039\\n\\n225,677\\n\\n380,439\\n\\n30,745.0\\n', '\\nBrazos\\n\\n65,872\\n\\n9,247\\n\\n75,119\\n\\n436\\n\\n120,850\\n\\n230,789\\n\\n32,548.8\\n', '\\nBrewster\\n\\n1,032\\n\\n330\\n\\n1,362\\n\\n34\\n\\n5,160\\n\\n9,092\\n\\n14,980.2\\n', '\\nBriscoe\\n\\n433\\n\\n146\\n\\n579\\n\\n8\\n\\n641\\n\\n1,572\\n\\n36,832.1\\n', '\\nBrooks\\n\\n1,388\\n\\n692\\n\\n2,080\\n\\n55\\n\\n7,326\\n\\n7,115\\n\\n29,234.0\\n', '\\nBrown\\n\\n6,813\\n\\n8,444\\n\\n15,257\\n\\n236\\n\\n16,131\\n\\n38,993\\n\\n39,127.5\\n', '\\nBurleson\\n\\n4,782\\n\\n1,343\\n\\n6,125\\n\\n68\\n\\n9,030\\n\\n18,373\\n\\n33,337.0\\n', '\\nBurnet\\n\\n11,061\\n\\n2,546\\n\\n13,607\\n\\n179\\n\\n26,188\\n\\n48,716\\n\\n27,931.3\\n', '\\nCaldwell\\n\\n15,091\\n\\n2,649\\n\\n17,740\\n\\n186\\n\\n24,898\\n\\n43,199\\n\\n41,065.8\\n', '\\nCalhoun\\n\\n4,513\\n\\n2,558\\n\\n7,071\\n\\n54\\n\\n11,533\\n\\n22,028\\n\\n32,100.1\\n', '\\nCallahan\\n\\n1,667\\n\\n1,834\\n\\n3,501\\n\\n80\\n\\n5,347\\n\\n14,070\\n\\n24,882.7\\n', '\\nCameron\\n\\n95,567\\n\\n39,586\\n\\n135,153\\n\\n2,118\\n\\n353,438\\n\\n426,210\\n\\n31,710.4\\n', '\\nCamp\\n\\n2,079\\n\\n1,510\\n\\n3,589\\n\\n78\\n\\n5,698\\n\\n12,914\\n\\n27,791.5\\n', '\\nCarson\\n\\n1,183\\n\\n569\\n\\n1,752\\n\\n38\\n\\n2,102\\n\\n5,951\\n\\n29,440.4\\n', '\\nCass\\n\\n5,568\\n\\n3,352\\n\\n8,920\\n\\n204\\n\\n10,607\\n\\n30,451\\n\\n29,293.0\\n', '\\nCastro\\n\\n2,221\\n\\n587\\n\\n2,808\\n\\n48\\n\\n3,277\\n\\n7,380\\n\\n38,048.8\\n', '\\nChambers\\n\\n12,109\\n\\n726\\n\\n12,835\\n\\n74\\n\\n22,126\\n\\n44,298\\n\\n28,974.2\\n', '\\nCherokee\\n\\n4,057\\n\\n5,828\\n\\n9,885\\n\\n261\\n\\n21,783\\n\\n53,539\\n\\n18,463.2\\n', '\\nChildress\\n\\n2,834\\n\\n219\\n\\n3,053\\n\\n35\\n\\n3,710\\n\\n7,038\\n\\n43,378.8\\n', '\\nClay\\n\\n2,156\\n\\n372\\n\\n2,528\\n\\n44\\n\\n4,495\\n\\n10,351\\n\\n24,422.8\\n', '\\nCochran\\n\\n737\\n\\n301\\n\\n1,038\\n\\n25\\n\\n1,115\\n\\n2,904\\n\\n35,743.8\\n', '\\nCoke\\n\\n409\\n\\n674\\n\\n1,083\\n\\n21\\n\\n1,305\\n\\n3,390\\n\\n31,946.9\\n', '\\nColeman\\n\\n1,327\\n\\n753\\n\\n2,080\\n\\n77\\n\\n3,133\\n\\n8,191\\n\\n25,393.7\\n', '\\nCollin\\n\\n196,705\\n\\n79,593\\n\\n276,298\\n\\n1,616\\n\\n717,594\\n\\n1,033,046\\n\\n26,746.0\\n', '\\nCollingsworth\\n\\n558\\n\\n339\\n\\n897\\n\\n17\\n\\n975\\n\\n2,853\\n\\n31,440.6\\n', '\\nColorado\\n\\n3,538\\n\\n1,015\\n\\n4,553\\n\\n68\\n\\n11,460\\n\\n22,283\\n\\n20,432.6\\n', '\\nComal\\n\\n26,594\\n\\n16,682\\n\\n43,276\\n\\n582\\n\\n98,076\\n\\n156,317\\n\\n27,684.8\\n', '\\nComanche\\n\\n2,687\\n\\n1,359\\n\\n4,046\\n\\n82\\n\\n6,263\\n\\n13,878\\n\\n29,154.1\\n', '\\nConcho\\n\\n671\\n\\n727\\n\\n1,398\\n\\n14\\n\\n1,396\\n\\n2,716\\n\\n51,472.8\\n', '\\nCooke\\n\\n6,645\\n\\n1,904\\n\\n8,549\\n\\n146\\n\\n16,022\\n\\n40,477\\n\\n21,120.6\\n', '\\nCoryell\\n\\n17,158\\n\\n4,220\\n\\n21,378\\n\\n235\\n\\n33,076\\n\\n75,137\\n\\n28,452.0\\n', '\\nCottle\\n\\n340\\n\\n52\\n\\n392\\n\\n9\\n\\n518\\n\\n1,354\\n\\n28,951.3\\n', '\\nCrane\\n\\n430\\n\\n1,124\\n\\n1,554\\n\\n25\\n\\n1,765\\n\\n4,678\\n\\n33,219.3\\n', '\\nCrockett\\n\\n189\\n\\n1,207\\n\\n1,396\\n\\n20\\n\\n1,637\\n\\n3,461\\n\\n40,335.2\\n', '\\nCrosby\\n\\n1,190\\n\\n1,114\\n\\n2,304\\n\\n46\\n\\n2,590\\n\\n5,702\\n\\n40,406.9\\n', '\\nCulberson\\n\\n506\\n\\n48\\n\\n554\\n\\n14\\n\\n1,164\\n\\n2,211\\n\\n25,056.5\\n', '\\nDallam\\n\\n1,785\\n\\n661\\n\\n2,446\\n\\n45\\n\\n3,125\\n\\n7,053\\n\\n34,680.3\\n', '\\nDallas\\n\\n573,805\\n\\n121,794\\n\\n695,599\\n\\n7,126\\n\\n1,608,328\\n\\n2,647,576\\n\\n26,273.1\\n', '\\nDawson\\n\\n1,992\\n\\n1,590\\n\\n3,582\\n\\n101\\n\\n4,482\\n\\n12,720\\n\\n28,160.4\\n', '\\nDeaf Smith\\n\\n4,415\\n\\n1,409\\n\\n5,824\\n\\n118\\n\\n8,044\\n\\n19,572\\n\\n29,756.8\\n', '\\nDelta\\n\\n817\\n\\n1,247\\n\\n2,064\\n\\n27\\n\\n1,825\\n\\n5,295\\n\\n38,980.2\\n', '\\nDenton\\n\\n157,660\\n\\n57,421\\n\\n215,081\\n\\n1,447\\n\\n561,167\\n\\n886,563\\n\\n24,260.1\\n', '\\nDeWitt\\n\\n4,679\\n\\n2,632\\n\\n7,311\\n\\n111\\n\\n9,380\\n\\n20,611\\n\\n35,471.4\\n', '\\nDickens\\n\\n244\\n\\n278\\n\\n522\\n\\n16\\n\\n724\\n\\n2,119\\n\\n24,634.3\\n', '\\nDimmit\\n\\n5,055\\n\\n1,149\\n\\n6,204\\n\\n52\\n\\n7,551\\n\\n9,709\\n\\n63,899.5\\n', '\\nDonley\\n\\n500\\n\\n819\\n\\n1,319\\n\\n26\\n\\n1,215\\n\\n3,228\\n\\n40,861.2\\n', '\\nDuval\\n\\n3,123\\n\\n1,239\\n\\n4,362\\n\\n74\\n\\n7,387\\n\\n10,907\\n\\n39,992.7\\n', '\\nEastland\\n\\n2,378\\n\\n1,050\\n\\n3,428\\n\\n120\\n\\n6,716\\n\\n18,307\\n\\n18,725.1\\n', '\\nEctor\\n\\n23,459\\n\\n20,585\\n\\n44,044\\n\\n734\\n\\n71,818\\n\\n167,383\\n\\n26,313.3\\n', '\\nEdwards\\n\\n377\\n\\n205\\n\\n582\\n\\n12\\n\\n789\\n\\n1,959\\n\\n29,709.0\\n', '\\nEl Paso\\n\\n233,532\\n\\n22,213\\n\\n255,745\\n\\n3,891\\n\\n663,923\\n\\n852,224\\n\\n30,009.1\\n', '\\nEllis\\n\\n43,553\\n\\n14,264\\n\\n57,817\\n\\n616\\n\\n101,497\\n\\n188,464\\n\\n30,678.0\\n', '\\nErath\\n\\n6,708\\n\\n3,285\\n\\n9,993\\n\\n132\\n\\n16,221\\n\\n43,042\\n\\n23,216.9\\n', '\\nFalls\\n\\n3,668\\n\\n830\\n\\n4,498\\n\\n70\\n\\n8,199\\n\\n17,401\\n\\n25,849.1\\n', '\\nFannin\\n\\n4,735\\n\\n3,381\\n\\n8,116\\n\\n193\\n\\n15,038\\n\\n36,230\\n\\n22,401.3\\n', '\\nFayette\\n\\n3,624\\n\\n1,869\\n\\n5,493\\n\\n117\\n\\n13,341\\n\\n26,328\\n\\n20,863.7\\n', '\\nFisher\\n\\n632\\n\\n99\\n\\n731\\n\\n27\\n\\n1,411\\n\\n3,859\\n\\n18,942.7\\n', '\\nFloyd\\n\\n1,370\\n\\n985\\n\\n2,355\\n\\n50\\n\\n2,544\\n\\n5,535\\n\\n42,547.4\\n', '\\nFoard\\n\\n194\\n\\n60\\n\\n254\\n\\n12\\n\\n519\\n\\n1,139\\n\\n22,300.3\\n', '\\nFort Bend\\n\\n209,886\\n\\n35,794\\n\\n245,680\\n\\n1,246\\n\\n602,229\\n\\n805,788\\n\\n30,489.4\\n', '\\nFranklin\\n\\n1,674\\n\\n997\\n\\n2,671\\n\\n46\\n\\n4,067\\n\\n10,791\\n\\n24,752.1\\n', '\\nFreestone\\n\\n2,477\\n\\n1,836\\n\\n4,313\\n\\n87\\n\\n8,091\\n\\n20,621\\n\\n20,915.6\\n', '\\nFrio\\n\\n5,092\\n\\n1,585\\n\\n6,677\\n\\n95\\n\\n14,437\\n\\n19,103\\n\\n34,952.6\\n', '\\nGaines\\n\\n1,708\\n\\n692\\n\\n2,400\\n\\n85\\n\\n4,723\\n\\n21,170\\n\\n11,336.8\\n', '\\nGalveston\\n\\n104,176\\n\\n15,674\\n\\n119,850\\n\\n899\\n\\n211,456\\n\\n339,931\\n\\n35,257.2\\n', '\\nGarza\\n\\n688\\n\\n815\\n\\n1,503\\n\\n30\\n\\n3,239\\n\\n6,115\\n\\n24,578.9\\n', '\\nGillespie\\n\\n3,795\\n\\n2,487\\n\\n6,282\\n\\n120\\n\\n15,004\\n\\n27,375\\n\\n22,947.9\\n', '\\nGlasscock\\n\\n89\\n\\n145\\n\\n234\\n\\n3\\n\\n618\\n\\n1,369\\n\\n17,092.8\\n', '\\nGoliad\\n\\n1,030\\n\\n537\\n\\n1,567\\n\\n34\\n\\n3,354\\n\\n8,007\\n\\n19,570.4\\n', '\\nGonzales\\n\\n3,707\\n\\n1,658\\n\\n5,365\\n\\n106\\n\\n10,912\\n\\n20,769\\n\\n25,831.8\\n', '\\nGray\\n\\n4,422\\n\\n2,678\\n\\n7,100\\n\\n132\\n\\n8,867\\n\\n21,930\\n\\n32,375.7\\n', '\\nGrayson\\n\\n26,320\\n\\n5,414\\n\\n31,734\\n\\n683\\n\\n60,937\\n\\n135,612\\n\\n23,400.6\\n', '\\nGregg\\n\\n13,609\\n\\n13,576\\n\\n27,185\\n\\n724\\n\\n59,374\\n\\n126,116\\n\\n21,555.6\\n', '\\nGrimes\\n\\n8,781\\n\\n1,422\\n\\n10,203\\n\\n128\\n\\n16,391\\n\\n29,466\\n\\n34,626.3\\n', '\\nGuadalupe\\n\\n30,426\\n\\n15,276\\n\\n45,702\\n\\n429\\n\\n94,142\\n\\n166,961\\n\\n27,372.9\\n', '\\nHale\\n\\n7,045\\n\\n1,423\\n\\n8,468\\n\\n251\\n\\n14,479\\n\\n33,165\\n\\n25,532.9\\n', '\\nHall\\n\\n1,008\\n\\n296\\n\\n1,304\\n\\n24\\n\\n1,260\\n\\n3,017\\n\\n43,221.7\\n', '\\nHamilton\\n\\n1,743\\n\\n364\\n\\n2,107\\n\\n36\\n\\n4,286\\n\\n8,641\\n\\n24,383.8\\n', '\\nHansford\\n\\n739\\n\\n1,598\\n\\n2,337\\n\\n31\\n\\n2,248\\n\\n5,327\\n\\n43,870.8\\n', '\\nHardeman\\n\\n578\\n\\n71\\n\\n649\\n\\n21\\n\\n1,801\\n\\n3,856\\n\\n16,830.9\\n', '\\nHardin\\n\\n6,632\\n\\n8,029\\n\\n14,661\\n\\n261\\n\\n22,263\\n\\n59,178\\n\\n24,774.4\\n', '\\nHarris\\n\\n1,173,851\\n\\n99,686\\n\\n1,273,537\\n\\n11,610\\n\\n3,044,041\\n\\n4,698,655\\n\\n27,104.3\\n', '\\nHarrison\\n\\n7,485\\n\\n8,336\\n\\n15,821\\n\\n238\\n\\n26,979\\n\\n68,559\\n\\n23,076.5\\n', '\\nHartley\\n\\n1,052\\n\\n450\\n\\n1,502\\n\\n3\\n\\n2,686\\n\\n5,861\\n\\n25,627.0\\n', '\\nHaskell\\n\\n520\\n\\n612\\n\\n1,132\\n\\n40\\n\\n2,188\\n\\n5,628\\n\\n20,113.7\\n', '\\nHays\\n\\n65,825\\n\\n9,378\\n\\n75,203\\n\\n475\\n\\n150,316\\n\\n228,364\\n\\n32,931.2\\n', '\\nHemphill\\n\\n1,237\\n\\n233\\n\\n1,470\\n\\n9\\n\\n1,647\\n\\n3,838\\n\\n38,301.2\\n', '\\nHenderson\\n\\n13,903\\n\\n4,611\\n\\n18,514\\n\\n446\\n\\n33,991\\n\\n82,989\\n\\n22,309.0\\n', '\\nHidalgo\\n\\n171,735\\n\\n95,805\\n\\n267,540\\n\\n3,680\\n\\n732,628\\n\\n886,294\\n\\n30,186.4\\n', '\\nHill\\n\\n7,542\\n\\n2,666\\n\\n10,208\\n\\n204\\n\\n15,313\\n\\n37,069\\n\\n27,537.8\\n', '\\nHockley\\n\\n7,813\\n\\n1,614\\n\\n9,427\\n\\n169\\n\\n10,137\\n\\n22,862\\n\\n41,234.4\\n', '\\nHood\\n\\n9,745\\n\\n5,290\\n\\n15,035\\n\\n298\\n\\n30,501\\n\\n60,984\\n\\n24,654.0\\n', '\\nHopkins\\n\\n5,557\\n\\n3,172\\n\\n8,729\\n\\n191\\n\\n15,164\\n\\n37,312\\n\\n23,394.6\\n', '\\nHouston\\n\\n2,449\\n\\n2,550\\n\\n4,999\\n\\n120\\n\\n9,876\\n\\n23,381\\n\\n21,380.6\\n', '\\nHoward\\n\\n4,038\\n\\n3,999\\n\\n8,037\\n\\n193\\n\\n12,795\\n\\n36,294\\n\\n22,144.2\\n', '\\nHudspeth\\n\\n918\\n\\n255\\n\\n1,173\\n\\n18\\n\\n3,643\\n\\n3,680\\n\\n31,875.0\\n', '\\nHunt\\n\\n13,156\\n\\n6,674\\n\\n19,830\\n\\n374\\n\\n43,121\\n\\n97,842\\n\\n20,267.4\\n', '\\nHutchinson\\n\\n6,064\\n\\n1,579\\n\\n7,643\\n\\n149\\n\\n7,429\\n\\n20,550\\n\\n37,192.2\\n', '\\nIrion\\n\\n287\\n\\n318\\n\\n605\\n\\n3\\n\\n673\\n\\n1,592\\n\\n38,002.5\\n', '\\nJack\\n\\n1,451\\n\\n214\\n\\n1,665\\n\\n31\\n\\n3,624\\n\\n9,265\\n\\n17,970.9\\n', '\\nJackson\\n\\n3,049\\n\\n935\\n\\n3,984\\n\\n63\\n\\n6,751\\n\\n14,561\\n\\n27,360.8\\n', '\\nJasper\\n\\n4,555\\n\\n3,675\\n\\n8,230\\n\\n202\\n\\n13,502\\n\\n35,726\\n\\n23,036.4\\n', '\\nJeff Davis\\n\\n205\\n\\n72\\n\\n277\\n\\n10\\n\\n1,195\\n\\n2,411\\n\\n11,489.0\\n', '\\nJefferson\\n\\n57,473\\n\\n5,667\\n\\n63,140\\n\\n879\\n\\n127,337\\n\\n251,590\\n\\n25,096.4\\n', '\\nJim Hogg\\n\\n894\\n\\n2,909\\n\\n3,803\\n\\n23\\n\\n3,146\\n\\n5,092\\n\\n74,685.8\\n', '\\nJim Wells\\n\\n9,971\\n\\n4,233\\n\\n14,204\\n\\n225\\n\\n23,320\\n\\n40,204\\n\\n35,329.8\\n', '\\nJohnson\\n\\n39,284\\n\\n12,886\\n\\n52,170\\n\\n782\\n\\n82,705\\n\\n174,777\\n\\n29,849.5\\n', '\\nJones\\n\\n3,297\\n\\n2,052\\n\\n5,349\\n\\n97\\n\\n8,802\\n\\n19,697\\n\\n27,156.4\\n', '\\nKarnes\\n\\n5,344\\n\\n1,059\\n\\n6,403\\n\\n75\\n\\n8,820\\n\\n15,508\\n\\n41,288.4\\n', '\\nKaufman\\n\\n32,822\\n\\n9,867\\n\\n42,689\\n\\n557\\n\\n73,775\\n\\n135,410\\n\\n31,525.7\\n', '\\nKendall\\n\\n5,781\\n\\n4,038\\n\\n9,819\\n\\n134\\n\\n30,344\\n\\n47,284\\n\\n20,766.0\\n', '\\nKenedy\\n\\n54\\n\\n50\\n\\n104\\n\\n2\\n\\n216\\n\\n390\\n\\n26,666.7\\n', '\\nKent\\n\\n75\\n\\n148\\n\\n223\\n\\n4\\n\\n289\\n\\n759\\n\\n29,380.8\\n', '\\nKerr\\n\\n4,997\\n\\n6,069\\n\\n11,066\\n\\n204\\n\\n26,095\\n\\n52,829\\n\\n20,946.8\\n', '\\nKimble\\n\\n469\\n\\n468\\n\\n937\\n\\n16\\n\\n1,860\\n\\n4,604\\n\\n20,351.9\\n', '\\nKing\\n\\n37\\n\\n19\\n\\n56\\n\\n0\\n\\n48\\n\\n274\\n\\n20,438.0\\n', '\\nKinney\\n\\n705\\n\\n126\\n\\n831\\n\\n14\\n\\n1,879\\n\\n3,575\\n\\n23,244.8\\n', '\\nKleberg\\n\\n5,786\\n\\n3,491\\n\\n9,277\\n\\n155\\n\\n19,346\\n\\n32,135\\n\\n28,868.8\\n', '\\nKnox\\n\\n355\\n\\n300\\n\\n655\\n\\n25\\n\\n1,441\\n\\n3,683\\n\\n17,784.4\\n', '\\nLa Salle\\n\\n1,900\\n\\n696\\n\\n2,596\\n\\n50\\n\\n4,833\\n\\n7,426\\n\\n34,958.3\\n', '\\nLamar\\n\\n4,726\\n\\n7,291\\n\\n12,017\\n\\n281\\n\\n19,678\\n\\n50,440\\n\\n23,824.3\\n', '\\nLamb\\n\\n3,791\\n\\n1,345\\n\\n5,136\\n\\n127\\n\\n5,599\\n\\n12,565\\n\\n40,875.4\\n', '\\nLampasas\\n\\n5,381\\n\\n1,005\\n\\n6,386\\n\\n96\\n\\n10,175\\n\\n21,326\\n\\n29,944.7\\n', '\\nLavaca\\n\\n2,877\\n\\n2,028\\n\\n4,905\\n\\n124\\n\\n9,197\\n\\n20,437\\n\\n24,000.6\\n', '\\nLee\\n\\n2,557\\n\\n2,687\\n\\n5,244\\n\\n63\\n\\n8,230\\n\\n17,411\\n\\n30,118.9\\n', '\\nLeon\\n\\n3,119\\n\\n1,197\\n\\n4,316\\n\\n95\\n\\n6,998\\n\\n17,588\\n\\n24,539.5\\n', '\\nLiberty\\n\\n16,520\\n\\n5,729\\n\\n22,249\\n\\n417\\n\\n40,850\\n\\n91,098\\n\\n24,423.1\\n', '\\nLimestone\\n\\n4,260\\n\\n1,853\\n\\n6,113\\n\\n137\\n\\n9,397\\n\\n23,709\\n\\n25,783.5\\n', '\\nLipscomb\\n\\n591\\n\\n219\\n\\n810\\n\\n17\\n\\n957\\n\\n3,208\\n\\n25,249.4\\n', '\\nLive Oak\\n\\n1,748\\n\\n679\\n\\n2,427\\n\\n43\\n\\n4,163\\n\\n12,164\\n\\n19,952.3\\n', '\\nLlano\\n\\n3,411\\n\\n1,707\\n\\n5,118\\n\\n101\\n\\n11,610\\n\\n21,784\\n\\n23,494.3\\n', '\\nLoving\\n\\n102\\n\\n301\\n\\n403\\n\\n1\\n\\n32\\n\\n96\\n\\n419,791.7\\n', '\\nLubbock\\n\\n76,608\\n\\n36,808\\n\\n113,416\\n\\n1,394\\n\\n152,050\\n\\n308,880\\n\\n36,718.5\\n', '\\nLynn\\n\\n1,360\\n\\n346\\n\\n1,706\\n\\n41\\n\\n2,379\\n\\n6,151\\n\\n27,735.3\\n', '\\nMadison\\n\\n3,217\\n\\n1,106\\n\\n4,323\\n\\n59\\n\\n6,377\\n\\n14,188\\n\\n30,469.4\\n', '\\nMarion\\n\\n1,090\\n\\n949\\n\\n2,039\\n\\n62\\n\\n4,120\\n\\n9,760\\n\\n20,891.4\\n', '\\nMartin\\n\\n873\\n\\n537\\n\\n1,410\\n\\n26\\n\\n1,779\\n\\n5,731\\n\\n24,603.0\\n', '\\nMason\\n\\n343\\n\\n714\\n\\n1,057\\n\\n13\\n\\n2,168\\n\\n4,301\\n\\n24,575.7\\n', '\\nMatagorda\\n\\n8,248\\n\\n2,067\\n\\n10,315\\n\\n185\\n\\n17,640\\n\\n36,292\\n\\n28,422.2\\n', '\\nMaverick\\n\\n21,936\\n\\n2,237\\n\\n24,173\\n\\n479\\n\\n57,557\\n\\n57,888\\n\\n41,758.2\\n', '\\nMcCulloch\\n\\n882\\n\\n1,063\\n\\n1,945\\n\\n51\\n\\n3,152\\n\\n8,323\\n\\n23,369.0\\n', '\\nMcLennan\\n\\n59,559\\n\\n15,621\\n\\n75,180\\n\\n970\\n\\n134,900\\n\\n255,400\\n\\n29,436.2\\n', '\\nMcMullen\\n\\n146\\n\\n40\\n\\n186\\n\\n10\\n\\n331\\n\\n749\\n\\n24,833.1\\n', '\\nMedina\\n\\n8,338\\n\\n3,833\\n\\n12,171\\n\\n212\\n\\n28,588\\n\\n53,794\\n\\n22,625.2\\n', '\\nMenard\\n\\n278\\n\\n380\\n\\n658\\n\\n13\\n\\n1,132\\n\\n2,128\\n\\n30,921.1\\n', '\\nMidland\\n\\n31,129\\n\\n16,882\\n\\n48,011\\n\\n516\\n\\n76,735\\n\\n176,814\\n\\n27,153.4\\n', '\\nMilam\\n\\n3,426\\n\\n2,586\\n\\n6,012\\n\\n109\\n\\n11,602\\n\\n25,185\\n\\n23,871.4\\n', '\\nMills\\n\\n1,226\\n\\n396\\n\\n1,622\\n\\n39\\n\\n2,147\\n\\n4,899\\n\\n33,108.8\\n', '\\nMitchell\\n\\n1,949\\n\\n167\\n\\n2,116\\n\\n52\\n\\n3,162\\n\\n8,531\\n\\n24,803.7\\n', '\\nMontague\\n\\n4,529\\n\\n845\\n\\n5,374\\n\\n136\\n\\n7,200\\n\\n19,695\\n\\n27,286.1\\n', '\\nMontgomery\\n\\n129,665\\n\\n42,377\\n\\n172,042\\n\\n1,382\\n\\n354,116\\n\\n604,391\\n\\n28,465.3\\n', '\\nMoore\\n\\n4,066\\n\\n2,270\\n\\n6,336\\n\\n115\\n\\n9,756\\n\\n21,046\\n\\n30,105.5\\n', '\\nMorris\\n\\n1,876\\n\\n1,143\\n\\n3,019\\n\\n76\\n\\n5,631\\n\\n12,428\\n\\n24,291.9\\n', '\\nMotley\\n\\n148\\n\\n177\\n\\n325\\n\\n13\\n\\n341\\n\\n1,205\\n\\n26,971.0\\n', '\\nNacogdoches\\n\\n10,476\\n\\n4,514\\n\\n14,990\\n\\n278\\n\\n29,974\\n\\n65,027\\n\\n23,052.0\\n', '\\nNavarro\\n\\n6,664\\n\\n7,815\\n\\n14,479\\n\\n233\\n\\n23,881\\n\\n52,013\\n\\n27,837.3\\n', '\\nNewton\\n\\n1,018\\n\\n736\\n\\n1,754\\n\\n64\\n\\n3,384\\n\\n13,317\\n\\n13,171.1\\n', '\\nNolan\\n\\n3,127\\n\\n432\\n\\n3,559\\n\\n108\\n\\n6,485\\n\\n14,256\\n\\n24,964.9\\n', '\\nNueces\\n\\n73,978\\n\\n29,158\\n\\n103,136\\n\\n1,348\\n\\n212,457\\n\\n363,049\\n\\n28,408.3\\n', '\\nOchiltree\\n\\n2,231\\n\\n443\\n\\n2,674\\n\\n50\\n\\n3,802\\n\\n10,219\\n\\n26,166.9\\n', '\\nOldham\\n\\n342\\n\\n308\\n\\n650\\n\\n6\\n\\n764\\n\\n2,126\\n\\n30,573.8\\n', '\\nOrange\\n\\n7,321\\n\\n9,947\\n\\n17,268\\n\\n381\\n\\n30,660\\n\\n82,461\\n\\n20,940.8\\n', '\\nPalo Pinto\\n\\n7,036\\n\\n1,019\\n\\n8,055\\n\\n158\\n\\n11,252\\n\\n29,008\\n\\n27,768.2\\n', '\\nPanola\\n\\n3,200\\n\\n2,586\\n\\n5,786\\n\\n137\\n\\n8,577\\n\\n24,586\\n\\n23,533.7\\n', '\\nParker\\n\\n31,745\\n\\n8,675\\n\\n40,420\\n\\n491\\n\\n66,693\\n\\n141,080\\n\\n28,650.4\\n', '\\nParmer\\n\\n1,554\\n\\n1,131\\n\\n2,685\\n\\n54\\n\\n3,915\\n\\n9,501\\n\\n28,260.2\\n', '\\nPecos\\n\\n2,793\\n\\n840\\n\\n3,633\\n\\n72\\n\\n9,581\\n\\n15,052\\n\\n24,136.3\\n', '\\nPolk\\n\\n6,159\\n\\n3,207\\n\\n9,366\\n\\n265\\n\\n22,810\\n\\n50,293\\n\\n18,622.9\\n', '\\nPotter\\n\\n30,227\\n\\n2,826\\n\\n33,053\\n\\n669\\n\\n54,035\\n\\n116,063\\n\\n28,478.5\\n', '\\nPresidio\\n\\n830\\n\\n384\\n\\n1,214\\n\\n42\\n\\n6,539\\n\\n6,535\\n\\n18,576.9\\n', '\\nRains\\n\\n1,211\\n\\n1,060\\n\\n2,271\\n\\n62\\n\\n4,775\\n\\n12,416\\n\\n18,290.9\\n', '\\nRandall\\n\\n27,248\\n\\n2,688\\n\\n29,936\\n\\n513\\n\\n63,900\\n\\n139,034\\n\\n21,531.4\\n', '\\nReagan\\n\\n309\\n\\n688\\n\\n997\\n\\n16\\n\\n1,571\\n\\n3,836\\n\\n25,990.6\\n', '\\nReal\\n\\n692\\n\\n330\\n\\n1,022\\n\\n25\\n\\n1,702\\n\\n3,499\\n\\n29,208.3\\n', '\\nRed River\\n\\n1,211\\n\\n1,559\\n\\n2,770\\n\\n74\\n\\n4,873\\n\\n11,649\\n\\n23,778.9\\n', '\\nReeves\\n\\n2,962\\n\\n2,673\\n\\n5,635\\n\\n77\\n\\n14,233\\n\\n16,154\\n\\n34,883.0\\n', '\\nRefugio\\n\\n1,419\\n\\n876\\n\\n2,295\\n\\n39\\n\\n3,816\\n\\n6,871\\n\\n33,401.3\\n', '\\nRoberts\\n\\n163\\n\\n34\\n\\n197\\n\\n2\\n\\n265\\n\\n851\\n\\n23,149.2\\n', '\\nRobertson\\n\\n4,196\\n\\n1,189\\n\\n5,385\\n\\n79\\n\\n7,943\\n\\n17,708\\n\\n30,410.0\\n', '\\nRockwall\\n\\n22,187\\n\\n9,549\\n\\n31,736\\n\\n284\\n\\n63,543\\n\\n103,363\\n\\n30,703.4\\n', '\\nRunnels\\n\\n1,247\\n\\n1,508\\n\\n2,755\\n\\n72\\n\\n4,612\\n\\n10,121\\n\\n27,220.6\\n', '\\nRusk\\n\\n7,244\\n\\n5,466\\n\\n12,710\\n\\n243\\n\\n22,433\\n\\n54,526\\n\\n23,310.0\\n', '\\nSabine\\n\\n849\\n\\n686\\n\\n1,535\\n\\n94\\n\\n3,896\\n\\n10,917\\n\\n14,060.6\\n', '\\nSan\\xa0Augustine\\n\\n622\\n\\n597\\n\\n1,219\\n\\n47\\n\\n3,610\\n\\n8,458\\n\\n14,412.4\\n', '\\nSan Jacinto\\n\\n4,871\\n\\n1,860\\n\\n6,731\\n\\n110\\n\\n9,973\\n\\n29,506\\n\\n22,812.3\\n', '\\nSan Patricio\\n\\n11,131\\n\\n3,440\\n\\n14,571\\n\\n363\\n\\n38,237\\n\\n66,688\\n\\n21,849.5\\n', '\\nSan Saba\\n\\n922\\n\\n578\\n\\n1,500\\n\\n39\\n\\n2,460\\n\\n6,227\\n\\n24,088.6\\n', '\\nSchleicher\\n\\n255\\n\\n345\\n\\n600\\n\\n9\\n\\n1,301\\n\\n2,822\\n\\n21,261.5\\n', '\\nScurry\\n\\n5,711\\n\\n438\\n\\n6,149\\n\\n108\\n\\n8,006\\n\\n16,697\\n\\n36,827.0\\n', '\\nShackelford\\n\\n236\\n\\n863\\n\\n1,099\\n\\n12\\n\\n1,207\\n\\n3,382\\n\\n32,495.6\\n', '\\nShelby\\n\\n3,304\\n\\n2,091\\n\\n5,395\\n\\n139\\n\\n9,732\\n\\n24,249\\n\\n22,248.3\\n', '\\nSherman\\n\\n380\\n\\n160\\n\\n540\\n\\n16\\n\\n1,029\\n\\n3,077\\n\\n17,549.6\\n', '\\nSmith\\n\\n33,924\\n\\n23,225\\n\\n57,149\\n\\n1,018\\n\\n110,859\\n\\n231,516\\n\\n24,684.7\\n', '\\nSomervell\\n\\n1,393\\n\\n837\\n\\n2,230\\n\\n37\\n\\n4,136\\n\\n9,569\\n\\n23,304.4\\n', '\\nStarr\\n\\n16,724\\n\\n7,481\\n\\n24,205\\n\\n390\\n\\n73,239\\n\\n63,690\\n\\n38,004.4\\n', '\\nStephens\\n\\n1,035\\n\\n1,098\\n\\n2,133\\n\\n53\\n\\n3,440\\n\\n9,556\\n\\n22,321.1\\n', '\\nSterling\\n\\n117\\n\\n212\\n\\n329\\n\\n9\\n\\n503\\n\\n1,254\\n\\n26,236.0\\n', '\\nStonewall\\n\\n79\\n\\n344\\n\\n423\\n\\n7\\n\\n601\\n\\n1,382\\n\\n30,607.8\\n', '\\nSutton\\n\\n401\\n\\n539\\n\\n940\\n\\n14\\n\\n1,663\\n\\n3,664\\n\\n25,655.0\\n', '\\nSwisher\\n\\n1,378\\n\\n1,303\\n\\n2,681\\n\\n34\\n\\n2,989\\n\\n7,439\\n\\n36,039.8\\n', '\\nTarrant\\n\\n534,778\\n\\n110,983\\n\\n645,761\\n\\n5,567\\n\\n1,221,060\\n\\n2,060,239\\n\\n31,344.0\\n', '\\nTaylor\\n\\n15,352\\n\\n25,511\\n\\n40,863\\n\\n771\\n\\n64,830\\n\\n139,044\\n\\n29,388.5\\n', '\\nTerrell\\n\\n94\\n\\n46\\n\\n140\\n\\n3\\n\\n410\\n\\n794\\n\\n17,632.2\\n', '\\nTerry\\n\\n1,616\\n\\n1,323\\n\\n2,939\\n\\n87\\n\\n5,175\\n\\n12,544\\n\\n23,429.5\\n', '\\nThrockmorton\\n\\n100\\n\\n196\\n\\n296\\n\\n10\\n\\n607\\n\\n1,448\\n\\n20,442.0\\n', '\\nTitus\\n\\n6,365\\n\\n3,932\\n\\n10,297\\n\\n137\\n\\n14,082\\n\\n33,690\\n\\n30,564.0\\n', '\\nTom Green\\n\\n10,994\\n\\n30,030\\n\\n41,024\\n\\n485\\n\\n56,880\\n\\n117,613\\n\\n34,880.5\\n', '\\nTravis\\n\\n260,459\\n\\n37,098\\n\\n297,557\\n\\n1,844\\n\\n917,117\\n\\n1,273,554\\n\\n23,364.3\\n', '\\nTrinity\\n\\n2,153\\n\\n1,106\\n\\n3,259\\n\\n80\\n\\n6,301\\n\\n14,530\\n\\n22,429.5\\n', '\\nTyler\\n\\n2,216\\n\\n2,966\\n\\n5,182\\n\\n91\\n\\n8,233\\n\\n22,735\\n\\n22,793.1\\n', '\\nUpshur\\n\\n3,878\\n\\n5,220\\n\\n9,098\\n\\n194\\n\\n14,785\\n\\n41,204\\n\\n22,080.4\\n', '\\nUpton\\n\\n162\\n\\n801\\n\\n963\\n\\n19\\n\\n1,539\\n\\n3,619\\n\\n26,609.6\\n', '\\nUvalde\\n\\n10,342\\n\\n1,195\\n\\n11,537\\n\\n152\\n\\n14,688\\n\\n26,743\\n\\n43,140.3\\n', '\\nVal Verde\\n\\n15,182\\n\\n685\\n\\n15,867\\n\\n312\\n\\n36,395\\n\\n50,853\\n\\n31,201.7\\n', '\\nVan Zandt\\n\\n7,601\\n\\n5,158\\n\\n12,759\\n\\n300\\n\\n21,732\\n\\n56,376\\n\\n22,632.0\\n', '\\nVictoria\\n\\n19,877\\n\\n3,331\\n\\n23,208\\n\\n428\\n\\n45,978\\n\\n91,329\\n\\n25,411.4\\n', '\\nWalker\\n\\n19,389\\n\\n3,103\\n\\n22,492\\n\\n216\\n\\n36,422\\n\\n75,949\\n\\n29,614.6\\n', '\\nWaller\\n\\n9,485\\n\\n2,147\\n\\n11,632\\n\\n112\\n\\n24,447\\n\\n54,822\\n\\n21,217.8\\n', '\\nWard\\n\\n2,435\\n\\n884\\n\\n3,319\\n\\n50\\n\\n4,369\\n\\n11,530\\n\\n28,785.8\\n', '\\nWashington\\n\\n9,303\\n\\n1,727\\n\\n11,030\\n\\n157\\n\\n18,756\\n\\n35,570\\n\\n31,009.3\\n', '\\nWebb\\n\\n98,586\\n\\n13,127\\n\\n111,713\\n\\n1,081\\n\\n310,958\\n\\n280,775\\n\\n39,787.4\\n', '\\nWharton\\n\\n7,961\\n\\n3,602\\n\\n11,563\\n\\n229\\n\\n22,279\\n\\n41,224\\n\\n28,049.2\\n', '\\nWheeler\\n\\n1,025\\n\\n326\\n\\n1,351\\n\\n25\\n\\n2,114\\n\\n5,178\\n\\n26,091.2\\n', '\\nWichita\\n\\n39,601\\n\\n1,662\\n\\n41,263\\n\\n749\\n\\n61,649\\n\\n132,920\\n\\n31,043.5\\n', '\\nWilbarger\\n\\n3,313\\n\\n941\\n\\n4,254\\n\\n91\\n\\n6,705\\n\\n12,465\\n\\n34,127.6\\n', '\\nWillacy\\n\\n6,932\\n\\n1,824\\n\\n8,756\\n\\n137\\n\\n15,068\\n\\n21,566\\n\\n40,600.9\\n', '\\nWilliamson\\n\\n135,774\\n\\n34,599\\n\\n170,373\\n\\n940\\n\\n418,728\\n\\n589,216\\n\\n28,915.2\\n', '\\nWilson\\n\\n8,482\\n\\n4,354\\n\\n12,836\\n\\n167\\n\\n27,130\\n\\n52,127\\n\\n24,624.5\\n', '\\nWinkler\\n\\n1,605\\n\\n617\\n\\n2,222\\n\\n36\\n\\n3,085\\n\\n7,990\\n\\n27,809.8\\n', '\\nWise\\n\\n16,349\\n\\n3,319\\n\\n19,668\\n\\n285\\n\\n27,928\\n\\n69,609\\n\\n28,255.0\\n', '\\nWood\\n\\n5,742\\n\\n4,067\\n\\n9,809\\n\\n307\\n\\n20,488\\n\\n45,084\\n\\n21,757.2\\n', '\\nYoakum\\n\\n1,119\\n\\n528\\n\\n1,647\\n\\n43\\n\\n3,526\\n\\n8,829\\n\\n18,654.4\\n', '\\nYoung\\n\\n3,778\\n\\n707\\n\\n4,485\\n\\n102\\n\\n7,516\\n\\n19,029\\n\\n23,569.3\\n', '\\nZapata\\n\\n2,623\\n\\n1,888\\n\\n4,511\\n\\n57\\n\\n8,613\\n\\n14,196\\n\\n31,776.6\\n', '\\nZavala\\n\\n3,615\\n\\n922\\n\\n4,537\\n\\n70\\n\\n6,181\\n\\n12,116\\n\\n37,446.4\\n', '\\nUpdated March 1, 2023Vaccinations final update November 30, 2022Data is publicly reported by Texas Department of State Health Services[201][202][203]\\n', '\\n\\n\\n^ County where individuals with a positive case reside. Location of diagnosis and treatment may vary.\\n\\n^ a b c Reported confirmed and probable cases. Actual case numbers are probably higher.\\n\\n^ Includes 88,624 cases from unknown counties.\\n\\n^ Includes 12,609 cases from unknown counties.\\n\\n^ Includes 35 deaths from unknown counties.\\n\\n^ Includes 372,020 nonresidents or persons from unknown counties.\\n\\n^ July 2019 population estimate from \"2019_txpopest_county.csv\". Texas Demographic Center. Retrieved November 9, 2020.\\n\\n\\n']\n"
     ]
    }
   ],
   "source": [
    "url = 'https://en.wikipedia.org/wiki/COVID-19_pandemic_in_Texas'\n",
    "response = requests.get(url)\n",
    "\n",
    "soup = BeautifulSoup(response.content, 'html.parser')\n",
    "table = soup.find('table', {'class': 'wikitable'})\n",
    "\n",
    "raw_data = []\n",
    "for tr in table.find_all(\"tr\"):\n",
    "    raw_data.append(tr.text)\n",
    "raw_data = raw_data[2:]\n",
    "print (raw_data)"
   ]
  },
  {
   "cell_type": "markdown",
   "id": "d9c2c135",
   "metadata": {},
   "source": [
    "# Step 2: Data transformation and load"
   ]
  },
  {
   "cell_type": "markdown",
   "id": "b705c12e",
   "metadata": {},
   "source": [
    "## - Transform the data\n",
    "#### - Split the raw data by \\n\\n\n",
    "#### - Delete comma from the data\n",
    "#### - Put those data into the column dictionary\n",
    "#### - Put all together"
   ]
  },
  {
   "cell_type": "code",
   "execution_count": 12,
   "id": "8a8380d4",
   "metadata": {},
   "outputs": [
    {
     "name": "stdout",
     "output_type": "stream",
     "text": [
      "[{'County': 'Anderson', 'Confirmed Cases': '7336', 'Probable Cases': '3624', 'Total Cases': '10960', 'Deaths': '256', 'Vaccine': '24776', 'Population': '59025', 'Total Cases / 100k': '18568.4'}, {'County': 'Andrews', 'Confirmed Cases': '3733', 'Probable Cases': '1357', 'Total Cases': '5090', 'Deaths': '74', 'Vaccine': '8366', 'Population': '19279', 'Total Cases / 100k': '26401.8'}, {'County': 'Angelina', 'Confirmed Cases': '9891', 'Probable Cases': '7183', 'Total Cases': '17074', 'Deaths': '503', 'Vaccine': '40498', 'Population': '90989', 'Total Cases / 100k': '18764.9'}, {'County': 'Aransas', 'Confirmed Cases': '4131', 'Probable Cases': '1415', 'Total Cases': '5546', 'Deaths': '98', 'Vaccine': '14327', 'Population': '23710', 'Total Cases / 100k': '23391.0'}, {'County': 'Archer', 'Confirmed Cases': '2310', 'Probable Cases': '332', 'Total Cases': '2642', 'Deaths': '30', 'Vaccine': '4235', 'Population': '9228', 'Total Cases / 100k': '28630.3'}, {'County': 'Armstrong', 'Confirmed Cases': '442', 'Probable Cases': '252', 'Total Cases': '694', 'Deaths': '10', 'Vaccine': '727', 'Population': '2001', 'Total Cases / 100k': '34682.7'}, {'County': 'Atascosa', 'Confirmed Cases': '12493', 'Probable Cases': '3236', 'Total Cases': '15729', 'Deaths': '240', 'Vaccine': '26017', 'Population': '50898', 'Total Cases / 100k': '30903.0'}, {'County': 'Austin', 'Confirmed Cases': '5461', 'Probable Cases': '1540', 'Total Cases': '7001', 'Deaths': '84', 'Vaccine': '15048', 'Population': '32067', 'Total Cases / 100k': '21832.4'}, {'County': 'Bailey', 'Confirmed Cases': '1046', 'Probable Cases': '717', 'Total Cases': '1763', 'Deaths': '39', 'Vaccine': '2723', 'Population': '7113', 'Total Cases / 100k': '24785.6'}, {'County': 'Bandera', 'Confirmed Cases': '3039', 'Probable Cases': '1267', 'Total Cases': '4306', 'Deaths': '80', 'Vaccine': '10399', 'Population': '23129', 'Total Cases / 100k': '18617.3'}, {'County': 'Bastrop', 'Confirmed Cases': '20056', 'Probable Cases': '7244', 'Total Cases': '27300', 'Deaths': '254', 'Vaccine': '52553', 'Population': '89564', 'Total Cases / 100k': '30481.0'}, {'County': 'Baylor', 'Confirmed Cases': '393', 'Probable Cases': '543', 'Total Cases': '936', 'Deaths': '33', 'Vaccine': '1476', 'Population': '3751', 'Total Cases / 100k': '24953.3'}, {'County': 'Bee', 'Confirmed Cases': '7366', 'Probable Cases': '2609', 'Total Cases': '9975', 'Deaths': '155', 'Vaccine': '16815', 'Population': '33471', 'Total Cases / 100k': '29801.9'}, {'County': 'Bell', 'Confirmed Cases': '66523', 'Probable Cases': '19765', 'Total Cases': '86288', 'Deaths': '945', 'Vaccine': '163770', 'Population': '359255', 'Total Cases / 100k': '24018.6'}, {'County': 'Bexar', 'Confirmed Cases': '566483', 'Probable Cases': '131330', 'Total Cases': '697813', 'Deaths': '6501', 'Vaccine': '1332284', 'Population': '1997417', 'Total Cases / 100k': '34935.8'}, {'County': 'Blanco', 'Confirmed Cases': '1915', 'Probable Cases': '1302', 'Total Cases': '3217', 'Deaths': '35', 'Vaccine': '6296', 'Population': '12159', 'Total Cases / 100k': '26457.8'}, {'County': 'Borden', 'Confirmed Cases': '92', 'Probable Cases': '32', 'Total Cases': '124', 'Deaths': '2', 'Vaccine': '201', 'Population': '680', 'Total Cases / 100k': '18235.3'}, {'County': 'Bosque', 'Confirmed Cases': '3300', 'Probable Cases': '1591', 'Total Cases': '4891', 'Deaths': '76', 'Vaccine': '8636', 'Population': '19062', 'Total Cases / 100k': '25658.4'}, {'County': 'Bowie', 'Confirmed Cases': '13902', 'Probable Cases': '10750', 'Total Cases': '24652', 'Deaths': '455', 'Vaccine': '34101', 'Population': '96380', 'Total Cases / 100k': '25577.9'}, {'County': 'Brazoria', 'Confirmed Cases': '96251', 'Probable Cases': '20715', 'Total Cases': '116966', 'Deaths': '1039', 'Vaccine': '225677', 'Population': '380439', 'Total Cases / 100k': '30745.0'}, {'County': 'Brazos', 'Confirmed Cases': '65872', 'Probable Cases': '9247', 'Total Cases': '75119', 'Deaths': '436', 'Vaccine': '120850', 'Population': '230789', 'Total Cases / 100k': '32548.8'}, {'County': 'Brewster', 'Confirmed Cases': '1032', 'Probable Cases': '330', 'Total Cases': '1362', 'Deaths': '34', 'Vaccine': '5160', 'Population': '9092', 'Total Cases / 100k': '14980.2'}, {'County': 'Briscoe', 'Confirmed Cases': '433', 'Probable Cases': '146', 'Total Cases': '579', 'Deaths': '8', 'Vaccine': '641', 'Population': '1572', 'Total Cases / 100k': '36832.1'}, {'County': 'Brooks', 'Confirmed Cases': '1388', 'Probable Cases': '692', 'Total Cases': '2080', 'Deaths': '55', 'Vaccine': '7326', 'Population': '7115', 'Total Cases / 100k': '29234.0'}, {'County': 'Brown', 'Confirmed Cases': '6813', 'Probable Cases': '8444', 'Total Cases': '15257', 'Deaths': '236', 'Vaccine': '16131', 'Population': '38993', 'Total Cases / 100k': '39127.5'}, {'County': 'Burleson', 'Confirmed Cases': '4782', 'Probable Cases': '1343', 'Total Cases': '6125', 'Deaths': '68', 'Vaccine': '9030', 'Population': '18373', 'Total Cases / 100k': '33337.0'}, {'County': 'Burnet', 'Confirmed Cases': '11061', 'Probable Cases': '2546', 'Total Cases': '13607', 'Deaths': '179', 'Vaccine': '26188', 'Population': '48716', 'Total Cases / 100k': '27931.3'}, {'County': 'Caldwell', 'Confirmed Cases': '15091', 'Probable Cases': '2649', 'Total Cases': '17740', 'Deaths': '186', 'Vaccine': '24898', 'Population': '43199', 'Total Cases / 100k': '41065.8'}, {'County': 'Calhoun', 'Confirmed Cases': '4513', 'Probable Cases': '2558', 'Total Cases': '7071', 'Deaths': '54', 'Vaccine': '11533', 'Population': '22028', 'Total Cases / 100k': '32100.1'}, {'County': 'Callahan', 'Confirmed Cases': '1667', 'Probable Cases': '1834', 'Total Cases': '3501', 'Deaths': '80', 'Vaccine': '5347', 'Population': '14070', 'Total Cases / 100k': '24882.7'}, {'County': 'Cameron', 'Confirmed Cases': '95567', 'Probable Cases': '39586', 'Total Cases': '135153', 'Deaths': '2118', 'Vaccine': '353438', 'Population': '426210', 'Total Cases / 100k': '31710.4'}, {'County': 'Camp', 'Confirmed Cases': '2079', 'Probable Cases': '1510', 'Total Cases': '3589', 'Deaths': '78', 'Vaccine': '5698', 'Population': '12914', 'Total Cases / 100k': '27791.5'}, {'County': 'Carson', 'Confirmed Cases': '1183', 'Probable Cases': '569', 'Total Cases': '1752', 'Deaths': '38', 'Vaccine': '2102', 'Population': '5951', 'Total Cases / 100k': '29440.4'}, {'County': 'Cass', 'Confirmed Cases': '5568', 'Probable Cases': '3352', 'Total Cases': '8920', 'Deaths': '204', 'Vaccine': '10607', 'Population': '30451', 'Total Cases / 100k': '29293.0'}, {'County': 'Castro', 'Confirmed Cases': '2221', 'Probable Cases': '587', 'Total Cases': '2808', 'Deaths': '48', 'Vaccine': '3277', 'Population': '7380', 'Total Cases / 100k': '38048.8'}, {'County': 'Chambers', 'Confirmed Cases': '12109', 'Probable Cases': '726', 'Total Cases': '12835', 'Deaths': '74', 'Vaccine': '22126', 'Population': '44298', 'Total Cases / 100k': '28974.2'}, {'County': 'Cherokee', 'Confirmed Cases': '4057', 'Probable Cases': '5828', 'Total Cases': '9885', 'Deaths': '261', 'Vaccine': '21783', 'Population': '53539', 'Total Cases / 100k': '18463.2'}, {'County': 'Childress', 'Confirmed Cases': '2834', 'Probable Cases': '219', 'Total Cases': '3053', 'Deaths': '35', 'Vaccine': '3710', 'Population': '7038', 'Total Cases / 100k': '43378.8'}, {'County': 'Clay', 'Confirmed Cases': '2156', 'Probable Cases': '372', 'Total Cases': '2528', 'Deaths': '44', 'Vaccine': '4495', 'Population': '10351', 'Total Cases / 100k': '24422.8'}, {'County': 'Cochran', 'Confirmed Cases': '737', 'Probable Cases': '301', 'Total Cases': '1038', 'Deaths': '25', 'Vaccine': '1115', 'Population': '2904', 'Total Cases / 100k': '35743.8'}, {'County': 'Coke', 'Confirmed Cases': '409', 'Probable Cases': '674', 'Total Cases': '1083', 'Deaths': '21', 'Vaccine': '1305', 'Population': '3390', 'Total Cases / 100k': '31946.9'}, {'County': 'Coleman', 'Confirmed Cases': '1327', 'Probable Cases': '753', 'Total Cases': '2080', 'Deaths': '77', 'Vaccine': '3133', 'Population': '8191', 'Total Cases / 100k': '25393.7'}, {'County': 'Collin', 'Confirmed Cases': '196705', 'Probable Cases': '79593', 'Total Cases': '276298', 'Deaths': '1616', 'Vaccine': '717594', 'Population': '1033046', 'Total Cases / 100k': '26746.0'}, {'County': 'Collingsworth', 'Confirmed Cases': '558', 'Probable Cases': '339', 'Total Cases': '897', 'Deaths': '17', 'Vaccine': '975', 'Population': '2853', 'Total Cases / 100k': '31440.6'}, {'County': 'Colorado', 'Confirmed Cases': '3538', 'Probable Cases': '1015', 'Total Cases': '4553', 'Deaths': '68', 'Vaccine': '11460', 'Population': '22283', 'Total Cases / 100k': '20432.6'}, {'County': 'Comal', 'Confirmed Cases': '26594', 'Probable Cases': '16682', 'Total Cases': '43276', 'Deaths': '582', 'Vaccine': '98076', 'Population': '156317', 'Total Cases / 100k': '27684.8'}, {'County': 'Comanche', 'Confirmed Cases': '2687', 'Probable Cases': '1359', 'Total Cases': '4046', 'Deaths': '82', 'Vaccine': '6263', 'Population': '13878', 'Total Cases / 100k': '29154.1'}, {'County': 'Concho', 'Confirmed Cases': '671', 'Probable Cases': '727', 'Total Cases': '1398', 'Deaths': '14', 'Vaccine': '1396', 'Population': '2716', 'Total Cases / 100k': '51472.8'}, {'County': 'Cooke', 'Confirmed Cases': '6645', 'Probable Cases': '1904', 'Total Cases': '8549', 'Deaths': '146', 'Vaccine': '16022', 'Population': '40477', 'Total Cases / 100k': '21120.6'}, {'County': 'Coryell', 'Confirmed Cases': '17158', 'Probable Cases': '4220', 'Total Cases': '21378', 'Deaths': '235', 'Vaccine': '33076', 'Population': '75137', 'Total Cases / 100k': '28452.0'}, {'County': 'Cottle', 'Confirmed Cases': '340', 'Probable Cases': '52', 'Total Cases': '392', 'Deaths': '9', 'Vaccine': '518', 'Population': '1354', 'Total Cases / 100k': '28951.3'}, {'County': 'Crane', 'Confirmed Cases': '430', 'Probable Cases': '1124', 'Total Cases': '1554', 'Deaths': '25', 'Vaccine': '1765', 'Population': '4678', 'Total Cases / 100k': '33219.3'}, {'County': 'Crockett', 'Confirmed Cases': '189', 'Probable Cases': '1207', 'Total Cases': '1396', 'Deaths': '20', 'Vaccine': '1637', 'Population': '3461', 'Total Cases / 100k': '40335.2'}, {'County': 'Crosby', 'Confirmed Cases': '1190', 'Probable Cases': '1114', 'Total Cases': '2304', 'Deaths': '46', 'Vaccine': '2590', 'Population': '5702', 'Total Cases / 100k': '40406.9'}, {'County': 'Culberson', 'Confirmed Cases': '506', 'Probable Cases': '48', 'Total Cases': '554', 'Deaths': '14', 'Vaccine': '1164', 'Population': '2211', 'Total Cases / 100k': '25056.5'}, {'County': 'Dallam', 'Confirmed Cases': '1785', 'Probable Cases': '661', 'Total Cases': '2446', 'Deaths': '45', 'Vaccine': '3125', 'Population': '7053', 'Total Cases / 100k': '34680.3'}, {'County': 'Dallas', 'Confirmed Cases': '573805', 'Probable Cases': '121794', 'Total Cases': '695599', 'Deaths': '7126', 'Vaccine': '1608328', 'Population': '2647576', 'Total Cases / 100k': '26273.1'}, {'County': 'Dawson', 'Confirmed Cases': '1992', 'Probable Cases': '1590', 'Total Cases': '3582', 'Deaths': '101', 'Vaccine': '4482', 'Population': '12720', 'Total Cases / 100k': '28160.4'}, {'County': 'Deaf Smith', 'Confirmed Cases': '4415', 'Probable Cases': '1409', 'Total Cases': '5824', 'Deaths': '118', 'Vaccine': '8044', 'Population': '19572', 'Total Cases / 100k': '29756.8'}, {'County': 'Delta', 'Confirmed Cases': '817', 'Probable Cases': '1247', 'Total Cases': '2064', 'Deaths': '27', 'Vaccine': '1825', 'Population': '5295', 'Total Cases / 100k': '38980.2'}, {'County': 'Denton', 'Confirmed Cases': '157660', 'Probable Cases': '57421', 'Total Cases': '215081', 'Deaths': '1447', 'Vaccine': '561167', 'Population': '886563', 'Total Cases / 100k': '24260.1'}, {'County': 'DeWitt', 'Confirmed Cases': '4679', 'Probable Cases': '2632', 'Total Cases': '7311', 'Deaths': '111', 'Vaccine': '9380', 'Population': '20611', 'Total Cases / 100k': '35471.4'}, {'County': 'Dickens', 'Confirmed Cases': '244', 'Probable Cases': '278', 'Total Cases': '522', 'Deaths': '16', 'Vaccine': '724', 'Population': '2119', 'Total Cases / 100k': '24634.3'}, {'County': 'Dimmit', 'Confirmed Cases': '5055', 'Probable Cases': '1149', 'Total Cases': '6204', 'Deaths': '52', 'Vaccine': '7551', 'Population': '9709', 'Total Cases / 100k': '63899.5'}, {'County': 'Donley', 'Confirmed Cases': '500', 'Probable Cases': '819', 'Total Cases': '1319', 'Deaths': '26', 'Vaccine': '1215', 'Population': '3228', 'Total Cases / 100k': '40861.2'}, {'County': 'Duval', 'Confirmed Cases': '3123', 'Probable Cases': '1239', 'Total Cases': '4362', 'Deaths': '74', 'Vaccine': '7387', 'Population': '10907', 'Total Cases / 100k': '39992.7'}, {'County': 'Eastland', 'Confirmed Cases': '2378', 'Probable Cases': '1050', 'Total Cases': '3428', 'Deaths': '120', 'Vaccine': '6716', 'Population': '18307', 'Total Cases / 100k': '18725.1'}, {'County': 'Ector', 'Confirmed Cases': '23459', 'Probable Cases': '20585', 'Total Cases': '44044', 'Deaths': '734', 'Vaccine': '71818', 'Population': '167383', 'Total Cases / 100k': '26313.3'}, {'County': 'Edwards', 'Confirmed Cases': '377', 'Probable Cases': '205', 'Total Cases': '582', 'Deaths': '12', 'Vaccine': '789', 'Population': '1959', 'Total Cases / 100k': '29709.0'}, {'County': 'El Paso', 'Confirmed Cases': '233532', 'Probable Cases': '22213', 'Total Cases': '255745', 'Deaths': '3891', 'Vaccine': '663923', 'Population': '852224', 'Total Cases / 100k': '30009.1'}, {'County': 'Ellis', 'Confirmed Cases': '43553', 'Probable Cases': '14264', 'Total Cases': '57817', 'Deaths': '616', 'Vaccine': '101497', 'Population': '188464', 'Total Cases / 100k': '30678.0'}, {'County': 'Erath', 'Confirmed Cases': '6708', 'Probable Cases': '3285', 'Total Cases': '9993', 'Deaths': '132', 'Vaccine': '16221', 'Population': '43042', 'Total Cases / 100k': '23216.9'}, {'County': 'Falls', 'Confirmed Cases': '3668', 'Probable Cases': '830', 'Total Cases': '4498', 'Deaths': '70', 'Vaccine': '8199', 'Population': '17401', 'Total Cases / 100k': '25849.1'}, {'County': 'Fannin', 'Confirmed Cases': '4735', 'Probable Cases': '3381', 'Total Cases': '8116', 'Deaths': '193', 'Vaccine': '15038', 'Population': '36230', 'Total Cases / 100k': '22401.3'}, {'County': 'Fayette', 'Confirmed Cases': '3624', 'Probable Cases': '1869', 'Total Cases': '5493', 'Deaths': '117', 'Vaccine': '13341', 'Population': '26328', 'Total Cases / 100k': '20863.7'}, {'County': 'Fisher', 'Confirmed Cases': '632', 'Probable Cases': '99', 'Total Cases': '731', 'Deaths': '27', 'Vaccine': '1411', 'Population': '3859', 'Total Cases / 100k': '18942.7'}, {'County': 'Floyd', 'Confirmed Cases': '1370', 'Probable Cases': '985', 'Total Cases': '2355', 'Deaths': '50', 'Vaccine': '2544', 'Population': '5535', 'Total Cases / 100k': '42547.4'}, {'County': 'Foard', 'Confirmed Cases': '194', 'Probable Cases': '60', 'Total Cases': '254', 'Deaths': '12', 'Vaccine': '519', 'Population': '1139', 'Total Cases / 100k': '22300.3'}, {'County': 'Fort Bend', 'Confirmed Cases': '209886', 'Probable Cases': '35794', 'Total Cases': '245680', 'Deaths': '1246', 'Vaccine': '602229', 'Population': '805788', 'Total Cases / 100k': '30489.4'}, {'County': 'Franklin', 'Confirmed Cases': '1674', 'Probable Cases': '997', 'Total Cases': '2671', 'Deaths': '46', 'Vaccine': '4067', 'Population': '10791', 'Total Cases / 100k': '24752.1'}, {'County': 'Freestone', 'Confirmed Cases': '2477', 'Probable Cases': '1836', 'Total Cases': '4313', 'Deaths': '87', 'Vaccine': '8091', 'Population': '20621', 'Total Cases / 100k': '20915.6'}, {'County': 'Frio', 'Confirmed Cases': '5092', 'Probable Cases': '1585', 'Total Cases': '6677', 'Deaths': '95', 'Vaccine': '14437', 'Population': '19103', 'Total Cases / 100k': '34952.6'}, {'County': 'Gaines', 'Confirmed Cases': '1708', 'Probable Cases': '692', 'Total Cases': '2400', 'Deaths': '85', 'Vaccine': '4723', 'Population': '21170', 'Total Cases / 100k': '11336.8'}, {'County': 'Galveston', 'Confirmed Cases': '104176', 'Probable Cases': '15674', 'Total Cases': '119850', 'Deaths': '899', 'Vaccine': '211456', 'Population': '339931', 'Total Cases / 100k': '35257.2'}, {'County': 'Garza', 'Confirmed Cases': '688', 'Probable Cases': '815', 'Total Cases': '1503', 'Deaths': '30', 'Vaccine': '3239', 'Population': '6115', 'Total Cases / 100k': '24578.9'}, {'County': 'Gillespie', 'Confirmed Cases': '3795', 'Probable Cases': '2487', 'Total Cases': '6282', 'Deaths': '120', 'Vaccine': '15004', 'Population': '27375', 'Total Cases / 100k': '22947.9'}, {'County': 'Glasscock', 'Confirmed Cases': '89', 'Probable Cases': '145', 'Total Cases': '234', 'Deaths': '3', 'Vaccine': '618', 'Population': '1369', 'Total Cases / 100k': '17092.8'}, {'County': 'Goliad', 'Confirmed Cases': '1030', 'Probable Cases': '537', 'Total Cases': '1567', 'Deaths': '34', 'Vaccine': '3354', 'Population': '8007', 'Total Cases / 100k': '19570.4'}, {'County': 'Gonzales', 'Confirmed Cases': '3707', 'Probable Cases': '1658', 'Total Cases': '5365', 'Deaths': '106', 'Vaccine': '10912', 'Population': '20769', 'Total Cases / 100k': '25831.8'}, {'County': 'Gray', 'Confirmed Cases': '4422', 'Probable Cases': '2678', 'Total Cases': '7100', 'Deaths': '132', 'Vaccine': '8867', 'Population': '21930', 'Total Cases / 100k': '32375.7'}, {'County': 'Grayson', 'Confirmed Cases': '26320', 'Probable Cases': '5414', 'Total Cases': '31734', 'Deaths': '683', 'Vaccine': '60937', 'Population': '135612', 'Total Cases / 100k': '23400.6'}, {'County': 'Gregg', 'Confirmed Cases': '13609', 'Probable Cases': '13576', 'Total Cases': '27185', 'Deaths': '724', 'Vaccine': '59374', 'Population': '126116', 'Total Cases / 100k': '21555.6'}, {'County': 'Grimes', 'Confirmed Cases': '8781', 'Probable Cases': '1422', 'Total Cases': '10203', 'Deaths': '128', 'Vaccine': '16391', 'Population': '29466', 'Total Cases / 100k': '34626.3'}, {'County': 'Guadalupe', 'Confirmed Cases': '30426', 'Probable Cases': '15276', 'Total Cases': '45702', 'Deaths': '429', 'Vaccine': '94142', 'Population': '166961', 'Total Cases / 100k': '27372.9'}, {'County': 'Hale', 'Confirmed Cases': '7045', 'Probable Cases': '1423', 'Total Cases': '8468', 'Deaths': '251', 'Vaccine': '14479', 'Population': '33165', 'Total Cases / 100k': '25532.9'}, {'County': 'Hall', 'Confirmed Cases': '1008', 'Probable Cases': '296', 'Total Cases': '1304', 'Deaths': '24', 'Vaccine': '1260', 'Population': '3017', 'Total Cases / 100k': '43221.7'}, {'County': 'Hamilton', 'Confirmed Cases': '1743', 'Probable Cases': '364', 'Total Cases': '2107', 'Deaths': '36', 'Vaccine': '4286', 'Population': '8641', 'Total Cases / 100k': '24383.8'}, {'County': 'Hansford', 'Confirmed Cases': '739', 'Probable Cases': '1598', 'Total Cases': '2337', 'Deaths': '31', 'Vaccine': '2248', 'Population': '5327', 'Total Cases / 100k': '43870.8'}, {'County': 'Hardeman', 'Confirmed Cases': '578', 'Probable Cases': '71', 'Total Cases': '649', 'Deaths': '21', 'Vaccine': '1801', 'Population': '3856', 'Total Cases / 100k': '16830.9'}, {'County': 'Hardin', 'Confirmed Cases': '6632', 'Probable Cases': '8029', 'Total Cases': '14661', 'Deaths': '261', 'Vaccine': '22263', 'Population': '59178', 'Total Cases / 100k': '24774.4'}, {'County': 'Harris', 'Confirmed Cases': '1173851', 'Probable Cases': '99686', 'Total Cases': '1273537', 'Deaths': '11610', 'Vaccine': '3044041', 'Population': '4698655', 'Total Cases / 100k': '27104.3'}, {'County': 'Harrison', 'Confirmed Cases': '7485', 'Probable Cases': '8336', 'Total Cases': '15821', 'Deaths': '238', 'Vaccine': '26979', 'Population': '68559', 'Total Cases / 100k': '23076.5'}, {'County': 'Hartley', 'Confirmed Cases': '1052', 'Probable Cases': '450', 'Total Cases': '1502', 'Deaths': '3', 'Vaccine': '2686', 'Population': '5861', 'Total Cases / 100k': '25627.0'}, {'County': 'Haskell', 'Confirmed Cases': '520', 'Probable Cases': '612', 'Total Cases': '1132', 'Deaths': '40', 'Vaccine': '2188', 'Population': '5628', 'Total Cases / 100k': '20113.7'}, {'County': 'Hays', 'Confirmed Cases': '65825', 'Probable Cases': '9378', 'Total Cases': '75203', 'Deaths': '475', 'Vaccine': '150316', 'Population': '228364', 'Total Cases / 100k': '32931.2'}, {'County': 'Hemphill', 'Confirmed Cases': '1237', 'Probable Cases': '233', 'Total Cases': '1470', 'Deaths': '9', 'Vaccine': '1647', 'Population': '3838', 'Total Cases / 100k': '38301.2'}, {'County': 'Henderson', 'Confirmed Cases': '13903', 'Probable Cases': '4611', 'Total Cases': '18514', 'Deaths': '446', 'Vaccine': '33991', 'Population': '82989', 'Total Cases / 100k': '22309.0'}, {'County': 'Hidalgo', 'Confirmed Cases': '171735', 'Probable Cases': '95805', 'Total Cases': '267540', 'Deaths': '3680', 'Vaccine': '732628', 'Population': '886294', 'Total Cases / 100k': '30186.4'}, {'County': 'Hill', 'Confirmed Cases': '7542', 'Probable Cases': '2666', 'Total Cases': '10208', 'Deaths': '204', 'Vaccine': '15313', 'Population': '37069', 'Total Cases / 100k': '27537.8'}, {'County': 'Hockley', 'Confirmed Cases': '7813', 'Probable Cases': '1614', 'Total Cases': '9427', 'Deaths': '169', 'Vaccine': '10137', 'Population': '22862', 'Total Cases / 100k': '41234.4'}, {'County': 'Hood', 'Confirmed Cases': '9745', 'Probable Cases': '5290', 'Total Cases': '15035', 'Deaths': '298', 'Vaccine': '30501', 'Population': '60984', 'Total Cases / 100k': '24654.0'}, {'County': 'Hopkins', 'Confirmed Cases': '5557', 'Probable Cases': '3172', 'Total Cases': '8729', 'Deaths': '191', 'Vaccine': '15164', 'Population': '37312', 'Total Cases / 100k': '23394.6'}, {'County': 'Houston', 'Confirmed Cases': '2449', 'Probable Cases': '2550', 'Total Cases': '4999', 'Deaths': '120', 'Vaccine': '9876', 'Population': '23381', 'Total Cases / 100k': '21380.6'}, {'County': 'Howard', 'Confirmed Cases': '4038', 'Probable Cases': '3999', 'Total Cases': '8037', 'Deaths': '193', 'Vaccine': '12795', 'Population': '36294', 'Total Cases / 100k': '22144.2'}, {'County': 'Hudspeth', 'Confirmed Cases': '918', 'Probable Cases': '255', 'Total Cases': '1173', 'Deaths': '18', 'Vaccine': '3643', 'Population': '3680', 'Total Cases / 100k': '31875.0'}, {'County': 'Hunt', 'Confirmed Cases': '13156', 'Probable Cases': '6674', 'Total Cases': '19830', 'Deaths': '374', 'Vaccine': '43121', 'Population': '97842', 'Total Cases / 100k': '20267.4'}, {'County': 'Hutchinson', 'Confirmed Cases': '6064', 'Probable Cases': '1579', 'Total Cases': '7643', 'Deaths': '149', 'Vaccine': '7429', 'Population': '20550', 'Total Cases / 100k': '37192.2'}, {'County': 'Irion', 'Confirmed Cases': '287', 'Probable Cases': '318', 'Total Cases': '605', 'Deaths': '3', 'Vaccine': '673', 'Population': '1592', 'Total Cases / 100k': '38002.5'}, {'County': 'Jack', 'Confirmed Cases': '1451', 'Probable Cases': '214', 'Total Cases': '1665', 'Deaths': '31', 'Vaccine': '3624', 'Population': '9265', 'Total Cases / 100k': '17970.9'}, {'County': 'Jackson', 'Confirmed Cases': '3049', 'Probable Cases': '935', 'Total Cases': '3984', 'Deaths': '63', 'Vaccine': '6751', 'Population': '14561', 'Total Cases / 100k': '27360.8'}, {'County': 'Jasper', 'Confirmed Cases': '4555', 'Probable Cases': '3675', 'Total Cases': '8230', 'Deaths': '202', 'Vaccine': '13502', 'Population': '35726', 'Total Cases / 100k': '23036.4'}, {'County': 'Jeff Davis', 'Confirmed Cases': '205', 'Probable Cases': '72', 'Total Cases': '277', 'Deaths': '10', 'Vaccine': '1195', 'Population': '2411', 'Total Cases / 100k': '11489.0'}, {'County': 'Jefferson', 'Confirmed Cases': '57473', 'Probable Cases': '5667', 'Total Cases': '63140', 'Deaths': '879', 'Vaccine': '127337', 'Population': '251590', 'Total Cases / 100k': '25096.4'}, {'County': 'Jim Hogg', 'Confirmed Cases': '894', 'Probable Cases': '2909', 'Total Cases': '3803', 'Deaths': '23', 'Vaccine': '3146', 'Population': '5092', 'Total Cases / 100k': '74685.8'}, {'County': 'Jim Wells', 'Confirmed Cases': '9971', 'Probable Cases': '4233', 'Total Cases': '14204', 'Deaths': '225', 'Vaccine': '23320', 'Population': '40204', 'Total Cases / 100k': '35329.8'}, {'County': 'Johnson', 'Confirmed Cases': '39284', 'Probable Cases': '12886', 'Total Cases': '52170', 'Deaths': '782', 'Vaccine': '82705', 'Population': '174777', 'Total Cases / 100k': '29849.5'}, {'County': 'Jones', 'Confirmed Cases': '3297', 'Probable Cases': '2052', 'Total Cases': '5349', 'Deaths': '97', 'Vaccine': '8802', 'Population': '19697', 'Total Cases / 100k': '27156.4'}, {'County': 'Karnes', 'Confirmed Cases': '5344', 'Probable Cases': '1059', 'Total Cases': '6403', 'Deaths': '75', 'Vaccine': '8820', 'Population': '15508', 'Total Cases / 100k': '41288.4'}, {'County': 'Kaufman', 'Confirmed Cases': '32822', 'Probable Cases': '9867', 'Total Cases': '42689', 'Deaths': '557', 'Vaccine': '73775', 'Population': '135410', 'Total Cases / 100k': '31525.7'}, {'County': 'Kendall', 'Confirmed Cases': '5781', 'Probable Cases': '4038', 'Total Cases': '9819', 'Deaths': '134', 'Vaccine': '30344', 'Population': '47284', 'Total Cases / 100k': '20766.0'}, {'County': 'Kenedy', 'Confirmed Cases': '54', 'Probable Cases': '50', 'Total Cases': '104', 'Deaths': '2', 'Vaccine': '216', 'Population': '390', 'Total Cases / 100k': '26666.7'}, {'County': 'Kent', 'Confirmed Cases': '75', 'Probable Cases': '148', 'Total Cases': '223', 'Deaths': '4', 'Vaccine': '289', 'Population': '759', 'Total Cases / 100k': '29380.8'}, {'County': 'Kerr', 'Confirmed Cases': '4997', 'Probable Cases': '6069', 'Total Cases': '11066', 'Deaths': '204', 'Vaccine': '26095', 'Population': '52829', 'Total Cases / 100k': '20946.8'}, {'County': 'Kimble', 'Confirmed Cases': '469', 'Probable Cases': '468', 'Total Cases': '937', 'Deaths': '16', 'Vaccine': '1860', 'Population': '4604', 'Total Cases / 100k': '20351.9'}, {'County': 'King', 'Confirmed Cases': '37', 'Probable Cases': '19', 'Total Cases': '56', 'Deaths': '0', 'Vaccine': '48', 'Population': '274', 'Total Cases / 100k': '20438.0'}, {'County': 'Kinney', 'Confirmed Cases': '705', 'Probable Cases': '126', 'Total Cases': '831', 'Deaths': '14', 'Vaccine': '1879', 'Population': '3575', 'Total Cases / 100k': '23244.8'}, {'County': 'Kleberg', 'Confirmed Cases': '5786', 'Probable Cases': '3491', 'Total Cases': '9277', 'Deaths': '155', 'Vaccine': '19346', 'Population': '32135', 'Total Cases / 100k': '28868.8'}, {'County': 'Knox', 'Confirmed Cases': '355', 'Probable Cases': '300', 'Total Cases': '655', 'Deaths': '25', 'Vaccine': '1441', 'Population': '3683', 'Total Cases / 100k': '17784.4'}, {'County': 'La Salle', 'Confirmed Cases': '1900', 'Probable Cases': '696', 'Total Cases': '2596', 'Deaths': '50', 'Vaccine': '4833', 'Population': '7426', 'Total Cases / 100k': '34958.3'}, {'County': 'Lamar', 'Confirmed Cases': '4726', 'Probable Cases': '7291', 'Total Cases': '12017', 'Deaths': '281', 'Vaccine': '19678', 'Population': '50440', 'Total Cases / 100k': '23824.3'}, {'County': 'Lamb', 'Confirmed Cases': '3791', 'Probable Cases': '1345', 'Total Cases': '5136', 'Deaths': '127', 'Vaccine': '5599', 'Population': '12565', 'Total Cases / 100k': '40875.4'}, {'County': 'Lampasas', 'Confirmed Cases': '5381', 'Probable Cases': '1005', 'Total Cases': '6386', 'Deaths': '96', 'Vaccine': '10175', 'Population': '21326', 'Total Cases / 100k': '29944.7'}, {'County': 'Lavaca', 'Confirmed Cases': '2877', 'Probable Cases': '2028', 'Total Cases': '4905', 'Deaths': '124', 'Vaccine': '9197', 'Population': '20437', 'Total Cases / 100k': '24000.6'}, {'County': 'Lee', 'Confirmed Cases': '2557', 'Probable Cases': '2687', 'Total Cases': '5244', 'Deaths': '63', 'Vaccine': '8230', 'Population': '17411', 'Total Cases / 100k': '30118.9'}, {'County': 'Leon', 'Confirmed Cases': '3119', 'Probable Cases': '1197', 'Total Cases': '4316', 'Deaths': '95', 'Vaccine': '6998', 'Population': '17588', 'Total Cases / 100k': '24539.5'}, {'County': 'Liberty', 'Confirmed Cases': '16520', 'Probable Cases': '5729', 'Total Cases': '22249', 'Deaths': '417', 'Vaccine': '40850', 'Population': '91098', 'Total Cases / 100k': '24423.1'}, {'County': 'Limestone', 'Confirmed Cases': '4260', 'Probable Cases': '1853', 'Total Cases': '6113', 'Deaths': '137', 'Vaccine': '9397', 'Population': '23709', 'Total Cases / 100k': '25783.5'}, {'County': 'Lipscomb', 'Confirmed Cases': '591', 'Probable Cases': '219', 'Total Cases': '810', 'Deaths': '17', 'Vaccine': '957', 'Population': '3208', 'Total Cases / 100k': '25249.4'}, {'County': 'Live Oak', 'Confirmed Cases': '1748', 'Probable Cases': '679', 'Total Cases': '2427', 'Deaths': '43', 'Vaccine': '4163', 'Population': '12164', 'Total Cases / 100k': '19952.3'}, {'County': 'Llano', 'Confirmed Cases': '3411', 'Probable Cases': '1707', 'Total Cases': '5118', 'Deaths': '101', 'Vaccine': '11610', 'Population': '21784', 'Total Cases / 100k': '23494.3'}, {'County': 'Loving', 'Confirmed Cases': '102', 'Probable Cases': '301', 'Total Cases': '403', 'Deaths': '1', 'Vaccine': '32', 'Population': '96', 'Total Cases / 100k': '419791.7'}, {'County': 'Lubbock', 'Confirmed Cases': '76608', 'Probable Cases': '36808', 'Total Cases': '113416', 'Deaths': '1394', 'Vaccine': '152050', 'Population': '308880', 'Total Cases / 100k': '36718.5'}, {'County': 'Lynn', 'Confirmed Cases': '1360', 'Probable Cases': '346', 'Total Cases': '1706', 'Deaths': '41', 'Vaccine': '2379', 'Population': '6151', 'Total Cases / 100k': '27735.3'}, {'County': 'Madison', 'Confirmed Cases': '3217', 'Probable Cases': '1106', 'Total Cases': '4323', 'Deaths': '59', 'Vaccine': '6377', 'Population': '14188', 'Total Cases / 100k': '30469.4'}, {'County': 'Marion', 'Confirmed Cases': '1090', 'Probable Cases': '949', 'Total Cases': '2039', 'Deaths': '62', 'Vaccine': '4120', 'Population': '9760', 'Total Cases / 100k': '20891.4'}, {'County': 'Martin', 'Confirmed Cases': '873', 'Probable Cases': '537', 'Total Cases': '1410', 'Deaths': '26', 'Vaccine': '1779', 'Population': '5731', 'Total Cases / 100k': '24603.0'}, {'County': 'Mason', 'Confirmed Cases': '343', 'Probable Cases': '714', 'Total Cases': '1057', 'Deaths': '13', 'Vaccine': '2168', 'Population': '4301', 'Total Cases / 100k': '24575.7'}, {'County': 'Matagorda', 'Confirmed Cases': '8248', 'Probable Cases': '2067', 'Total Cases': '10315', 'Deaths': '185', 'Vaccine': '17640', 'Population': '36292', 'Total Cases / 100k': '28422.2'}, {'County': 'Maverick', 'Confirmed Cases': '21936', 'Probable Cases': '2237', 'Total Cases': '24173', 'Deaths': '479', 'Vaccine': '57557', 'Population': '57888', 'Total Cases / 100k': '41758.2'}, {'County': 'McCulloch', 'Confirmed Cases': '882', 'Probable Cases': '1063', 'Total Cases': '1945', 'Deaths': '51', 'Vaccine': '3152', 'Population': '8323', 'Total Cases / 100k': '23369.0'}, {'County': 'McLennan', 'Confirmed Cases': '59559', 'Probable Cases': '15621', 'Total Cases': '75180', 'Deaths': '970', 'Vaccine': '134900', 'Population': '255400', 'Total Cases / 100k': '29436.2'}, {'County': 'McMullen', 'Confirmed Cases': '146', 'Probable Cases': '40', 'Total Cases': '186', 'Deaths': '10', 'Vaccine': '331', 'Population': '749', 'Total Cases / 100k': '24833.1'}, {'County': 'Medina', 'Confirmed Cases': '8338', 'Probable Cases': '3833', 'Total Cases': '12171', 'Deaths': '212', 'Vaccine': '28588', 'Population': '53794', 'Total Cases / 100k': '22625.2'}, {'County': 'Menard', 'Confirmed Cases': '278', 'Probable Cases': '380', 'Total Cases': '658', 'Deaths': '13', 'Vaccine': '1132', 'Population': '2128', 'Total Cases / 100k': '30921.1'}, {'County': 'Midland', 'Confirmed Cases': '31129', 'Probable Cases': '16882', 'Total Cases': '48011', 'Deaths': '516', 'Vaccine': '76735', 'Population': '176814', 'Total Cases / 100k': '27153.4'}, {'County': 'Milam', 'Confirmed Cases': '3426', 'Probable Cases': '2586', 'Total Cases': '6012', 'Deaths': '109', 'Vaccine': '11602', 'Population': '25185', 'Total Cases / 100k': '23871.4'}, {'County': 'Mills', 'Confirmed Cases': '1226', 'Probable Cases': '396', 'Total Cases': '1622', 'Deaths': '39', 'Vaccine': '2147', 'Population': '4899', 'Total Cases / 100k': '33108.8'}, {'County': 'Mitchell', 'Confirmed Cases': '1949', 'Probable Cases': '167', 'Total Cases': '2116', 'Deaths': '52', 'Vaccine': '3162', 'Population': '8531', 'Total Cases / 100k': '24803.7'}, {'County': 'Montague', 'Confirmed Cases': '4529', 'Probable Cases': '845', 'Total Cases': '5374', 'Deaths': '136', 'Vaccine': '7200', 'Population': '19695', 'Total Cases / 100k': '27286.1'}, {'County': 'Montgomery', 'Confirmed Cases': '129665', 'Probable Cases': '42377', 'Total Cases': '172042', 'Deaths': '1382', 'Vaccine': '354116', 'Population': '604391', 'Total Cases / 100k': '28465.3'}, {'County': 'Moore', 'Confirmed Cases': '4066', 'Probable Cases': '2270', 'Total Cases': '6336', 'Deaths': '115', 'Vaccine': '9756', 'Population': '21046', 'Total Cases / 100k': '30105.5'}, {'County': 'Morris', 'Confirmed Cases': '1876', 'Probable Cases': '1143', 'Total Cases': '3019', 'Deaths': '76', 'Vaccine': '5631', 'Population': '12428', 'Total Cases / 100k': '24291.9'}, {'County': 'Motley', 'Confirmed Cases': '148', 'Probable Cases': '177', 'Total Cases': '325', 'Deaths': '13', 'Vaccine': '341', 'Population': '1205', 'Total Cases / 100k': '26971.0'}, {'County': 'Nacogdoches', 'Confirmed Cases': '10476', 'Probable Cases': '4514', 'Total Cases': '14990', 'Deaths': '278', 'Vaccine': '29974', 'Population': '65027', 'Total Cases / 100k': '23052.0'}, {'County': 'Navarro', 'Confirmed Cases': '6664', 'Probable Cases': '7815', 'Total Cases': '14479', 'Deaths': '233', 'Vaccine': '23881', 'Population': '52013', 'Total Cases / 100k': '27837.3'}, {'County': 'Newton', 'Confirmed Cases': '1018', 'Probable Cases': '736', 'Total Cases': '1754', 'Deaths': '64', 'Vaccine': '3384', 'Population': '13317', 'Total Cases / 100k': '13171.1'}, {'County': 'Nolan', 'Confirmed Cases': '3127', 'Probable Cases': '432', 'Total Cases': '3559', 'Deaths': '108', 'Vaccine': '6485', 'Population': '14256', 'Total Cases / 100k': '24964.9'}, {'County': 'Nueces', 'Confirmed Cases': '73978', 'Probable Cases': '29158', 'Total Cases': '103136', 'Deaths': '1348', 'Vaccine': '212457', 'Population': '363049', 'Total Cases / 100k': '28408.3'}, {'County': 'Ochiltree', 'Confirmed Cases': '2231', 'Probable Cases': '443', 'Total Cases': '2674', 'Deaths': '50', 'Vaccine': '3802', 'Population': '10219', 'Total Cases / 100k': '26166.9'}, {'County': 'Oldham', 'Confirmed Cases': '342', 'Probable Cases': '308', 'Total Cases': '650', 'Deaths': '6', 'Vaccine': '764', 'Population': '2126', 'Total Cases / 100k': '30573.8'}, {'County': 'Orange', 'Confirmed Cases': '7321', 'Probable Cases': '9947', 'Total Cases': '17268', 'Deaths': '381', 'Vaccine': '30660', 'Population': '82461', 'Total Cases / 100k': '20940.8'}, {'County': 'Palo Pinto', 'Confirmed Cases': '7036', 'Probable Cases': '1019', 'Total Cases': '8055', 'Deaths': '158', 'Vaccine': '11252', 'Population': '29008', 'Total Cases / 100k': '27768.2'}, {'County': 'Panola', 'Confirmed Cases': '3200', 'Probable Cases': '2586', 'Total Cases': '5786', 'Deaths': '137', 'Vaccine': '8577', 'Population': '24586', 'Total Cases / 100k': '23533.7'}, {'County': 'Parker', 'Confirmed Cases': '31745', 'Probable Cases': '8675', 'Total Cases': '40420', 'Deaths': '491', 'Vaccine': '66693', 'Population': '141080', 'Total Cases / 100k': '28650.4'}, {'County': 'Parmer', 'Confirmed Cases': '1554', 'Probable Cases': '1131', 'Total Cases': '2685', 'Deaths': '54', 'Vaccine': '3915', 'Population': '9501', 'Total Cases / 100k': '28260.2'}, {'County': 'Pecos', 'Confirmed Cases': '2793', 'Probable Cases': '840', 'Total Cases': '3633', 'Deaths': '72', 'Vaccine': '9581', 'Population': '15052', 'Total Cases / 100k': '24136.3'}, {'County': 'Polk', 'Confirmed Cases': '6159', 'Probable Cases': '3207', 'Total Cases': '9366', 'Deaths': '265', 'Vaccine': '22810', 'Population': '50293', 'Total Cases / 100k': '18622.9'}, {'County': 'Potter', 'Confirmed Cases': '30227', 'Probable Cases': '2826', 'Total Cases': '33053', 'Deaths': '669', 'Vaccine': '54035', 'Population': '116063', 'Total Cases / 100k': '28478.5'}, {'County': 'Presidio', 'Confirmed Cases': '830', 'Probable Cases': '384', 'Total Cases': '1214', 'Deaths': '42', 'Vaccine': '6539', 'Population': '6535', 'Total Cases / 100k': '18576.9'}, {'County': 'Rains', 'Confirmed Cases': '1211', 'Probable Cases': '1060', 'Total Cases': '2271', 'Deaths': '62', 'Vaccine': '4775', 'Population': '12416', 'Total Cases / 100k': '18290.9'}, {'County': 'Randall', 'Confirmed Cases': '27248', 'Probable Cases': '2688', 'Total Cases': '29936', 'Deaths': '513', 'Vaccine': '63900', 'Population': '139034', 'Total Cases / 100k': '21531.4'}, {'County': 'Reagan', 'Confirmed Cases': '309', 'Probable Cases': '688', 'Total Cases': '997', 'Deaths': '16', 'Vaccine': '1571', 'Population': '3836', 'Total Cases / 100k': '25990.6'}, {'County': 'Real', 'Confirmed Cases': '692', 'Probable Cases': '330', 'Total Cases': '1022', 'Deaths': '25', 'Vaccine': '1702', 'Population': '3499', 'Total Cases / 100k': '29208.3'}, {'County': 'Red River', 'Confirmed Cases': '1211', 'Probable Cases': '1559', 'Total Cases': '2770', 'Deaths': '74', 'Vaccine': '4873', 'Population': '11649', 'Total Cases / 100k': '23778.9'}, {'County': 'Reeves', 'Confirmed Cases': '2962', 'Probable Cases': '2673', 'Total Cases': '5635', 'Deaths': '77', 'Vaccine': '14233', 'Population': '16154', 'Total Cases / 100k': '34883.0'}, {'County': 'Refugio', 'Confirmed Cases': '1419', 'Probable Cases': '876', 'Total Cases': '2295', 'Deaths': '39', 'Vaccine': '3816', 'Population': '6871', 'Total Cases / 100k': '33401.3'}, {'County': 'Roberts', 'Confirmed Cases': '163', 'Probable Cases': '34', 'Total Cases': '197', 'Deaths': '2', 'Vaccine': '265', 'Population': '851', 'Total Cases / 100k': '23149.2'}, {'County': 'Robertson', 'Confirmed Cases': '4196', 'Probable Cases': '1189', 'Total Cases': '5385', 'Deaths': '79', 'Vaccine': '7943', 'Population': '17708', 'Total Cases / 100k': '30410.0'}, {'County': 'Rockwall', 'Confirmed Cases': '22187', 'Probable Cases': '9549', 'Total Cases': '31736', 'Deaths': '284', 'Vaccine': '63543', 'Population': '103363', 'Total Cases / 100k': '30703.4'}, {'County': 'Runnels', 'Confirmed Cases': '1247', 'Probable Cases': '1508', 'Total Cases': '2755', 'Deaths': '72', 'Vaccine': '4612', 'Population': '10121', 'Total Cases / 100k': '27220.6'}, {'County': 'Rusk', 'Confirmed Cases': '7244', 'Probable Cases': '5466', 'Total Cases': '12710', 'Deaths': '243', 'Vaccine': '22433', 'Population': '54526', 'Total Cases / 100k': '23310.0'}, {'County': 'Sabine', 'Confirmed Cases': '849', 'Probable Cases': '686', 'Total Cases': '1535', 'Deaths': '94', 'Vaccine': '3896', 'Population': '10917', 'Total Cases / 100k': '14060.6'}, {'County': 'San\\xa0Augustine', 'Confirmed Cases': '622', 'Probable Cases': '597', 'Total Cases': '1219', 'Deaths': '47', 'Vaccine': '3610', 'Population': '8458', 'Total Cases / 100k': '14412.4'}, {'County': 'San Jacinto', 'Confirmed Cases': '4871', 'Probable Cases': '1860', 'Total Cases': '6731', 'Deaths': '110', 'Vaccine': '9973', 'Population': '29506', 'Total Cases / 100k': '22812.3'}, {'County': 'San Patricio', 'Confirmed Cases': '11131', 'Probable Cases': '3440', 'Total Cases': '14571', 'Deaths': '363', 'Vaccine': '38237', 'Population': '66688', 'Total Cases / 100k': '21849.5'}, {'County': 'San Saba', 'Confirmed Cases': '922', 'Probable Cases': '578', 'Total Cases': '1500', 'Deaths': '39', 'Vaccine': '2460', 'Population': '6227', 'Total Cases / 100k': '24088.6'}, {'County': 'Schleicher', 'Confirmed Cases': '255', 'Probable Cases': '345', 'Total Cases': '600', 'Deaths': '9', 'Vaccine': '1301', 'Population': '2822', 'Total Cases / 100k': '21261.5'}, {'County': 'Scurry', 'Confirmed Cases': '5711', 'Probable Cases': '438', 'Total Cases': '6149', 'Deaths': '108', 'Vaccine': '8006', 'Population': '16697', 'Total Cases / 100k': '36827.0'}, {'County': 'Shackelford', 'Confirmed Cases': '236', 'Probable Cases': '863', 'Total Cases': '1099', 'Deaths': '12', 'Vaccine': '1207', 'Population': '3382', 'Total Cases / 100k': '32495.6'}, {'County': 'Shelby', 'Confirmed Cases': '3304', 'Probable Cases': '2091', 'Total Cases': '5395', 'Deaths': '139', 'Vaccine': '9732', 'Population': '24249', 'Total Cases / 100k': '22248.3'}, {'County': 'Sherman', 'Confirmed Cases': '380', 'Probable Cases': '160', 'Total Cases': '540', 'Deaths': '16', 'Vaccine': '1029', 'Population': '3077', 'Total Cases / 100k': '17549.6'}, {'County': 'Smith', 'Confirmed Cases': '33924', 'Probable Cases': '23225', 'Total Cases': '57149', 'Deaths': '1018', 'Vaccine': '110859', 'Population': '231516', 'Total Cases / 100k': '24684.7'}, {'County': 'Somervell', 'Confirmed Cases': '1393', 'Probable Cases': '837', 'Total Cases': '2230', 'Deaths': '37', 'Vaccine': '4136', 'Population': '9569', 'Total Cases / 100k': '23304.4'}, {'County': 'Starr', 'Confirmed Cases': '16724', 'Probable Cases': '7481', 'Total Cases': '24205', 'Deaths': '390', 'Vaccine': '73239', 'Population': '63690', 'Total Cases / 100k': '38004.4'}, {'County': 'Stephens', 'Confirmed Cases': '1035', 'Probable Cases': '1098', 'Total Cases': '2133', 'Deaths': '53', 'Vaccine': '3440', 'Population': '9556', 'Total Cases / 100k': '22321.1'}, {'County': 'Sterling', 'Confirmed Cases': '117', 'Probable Cases': '212', 'Total Cases': '329', 'Deaths': '9', 'Vaccine': '503', 'Population': '1254', 'Total Cases / 100k': '26236.0'}, {'County': 'Stonewall', 'Confirmed Cases': '79', 'Probable Cases': '344', 'Total Cases': '423', 'Deaths': '7', 'Vaccine': '601', 'Population': '1382', 'Total Cases / 100k': '30607.8'}, {'County': 'Sutton', 'Confirmed Cases': '401', 'Probable Cases': '539', 'Total Cases': '940', 'Deaths': '14', 'Vaccine': '1663', 'Population': '3664', 'Total Cases / 100k': '25655.0'}, {'County': 'Swisher', 'Confirmed Cases': '1378', 'Probable Cases': '1303', 'Total Cases': '2681', 'Deaths': '34', 'Vaccine': '2989', 'Population': '7439', 'Total Cases / 100k': '36039.8'}, {'County': 'Tarrant', 'Confirmed Cases': '534778', 'Probable Cases': '110983', 'Total Cases': '645761', 'Deaths': '5567', 'Vaccine': '1221060', 'Population': '2060239', 'Total Cases / 100k': '31344.0'}, {'County': 'Taylor', 'Confirmed Cases': '15352', 'Probable Cases': '25511', 'Total Cases': '40863', 'Deaths': '771', 'Vaccine': '64830', 'Population': '139044', 'Total Cases / 100k': '29388.5'}, {'County': 'Terrell', 'Confirmed Cases': '94', 'Probable Cases': '46', 'Total Cases': '140', 'Deaths': '3', 'Vaccine': '410', 'Population': '794', 'Total Cases / 100k': '17632.2'}, {'County': 'Terry', 'Confirmed Cases': '1616', 'Probable Cases': '1323', 'Total Cases': '2939', 'Deaths': '87', 'Vaccine': '5175', 'Population': '12544', 'Total Cases / 100k': '23429.5'}, {'County': 'Throckmorton', 'Confirmed Cases': '100', 'Probable Cases': '196', 'Total Cases': '296', 'Deaths': '10', 'Vaccine': '607', 'Population': '1448', 'Total Cases / 100k': '20442.0'}, {'County': 'Titus', 'Confirmed Cases': '6365', 'Probable Cases': '3932', 'Total Cases': '10297', 'Deaths': '137', 'Vaccine': '14082', 'Population': '33690', 'Total Cases / 100k': '30564.0'}, {'County': 'Tom Green', 'Confirmed Cases': '10994', 'Probable Cases': '30030', 'Total Cases': '41024', 'Deaths': '485', 'Vaccine': '56880', 'Population': '117613', 'Total Cases / 100k': '34880.5'}, {'County': 'Travis', 'Confirmed Cases': '260459', 'Probable Cases': '37098', 'Total Cases': '297557', 'Deaths': '1844', 'Vaccine': '917117', 'Population': '1273554', 'Total Cases / 100k': '23364.3'}, {'County': 'Trinity', 'Confirmed Cases': '2153', 'Probable Cases': '1106', 'Total Cases': '3259', 'Deaths': '80', 'Vaccine': '6301', 'Population': '14530', 'Total Cases / 100k': '22429.5'}, {'County': 'Tyler', 'Confirmed Cases': '2216', 'Probable Cases': '2966', 'Total Cases': '5182', 'Deaths': '91', 'Vaccine': '8233', 'Population': '22735', 'Total Cases / 100k': '22793.1'}, {'County': 'Upshur', 'Confirmed Cases': '3878', 'Probable Cases': '5220', 'Total Cases': '9098', 'Deaths': '194', 'Vaccine': '14785', 'Population': '41204', 'Total Cases / 100k': '22080.4'}, {'County': 'Upton', 'Confirmed Cases': '162', 'Probable Cases': '801', 'Total Cases': '963', 'Deaths': '19', 'Vaccine': '1539', 'Population': '3619', 'Total Cases / 100k': '26609.6'}, {'County': 'Uvalde', 'Confirmed Cases': '10342', 'Probable Cases': '1195', 'Total Cases': '11537', 'Deaths': '152', 'Vaccine': '14688', 'Population': '26743', 'Total Cases / 100k': '43140.3'}, {'County': 'Val Verde', 'Confirmed Cases': '15182', 'Probable Cases': '685', 'Total Cases': '15867', 'Deaths': '312', 'Vaccine': '36395', 'Population': '50853', 'Total Cases / 100k': '31201.7'}, {'County': 'Van Zandt', 'Confirmed Cases': '7601', 'Probable Cases': '5158', 'Total Cases': '12759', 'Deaths': '300', 'Vaccine': '21732', 'Population': '56376', 'Total Cases / 100k': '22632.0'}, {'County': 'Victoria', 'Confirmed Cases': '19877', 'Probable Cases': '3331', 'Total Cases': '23208', 'Deaths': '428', 'Vaccine': '45978', 'Population': '91329', 'Total Cases / 100k': '25411.4'}, {'County': 'Walker', 'Confirmed Cases': '19389', 'Probable Cases': '3103', 'Total Cases': '22492', 'Deaths': '216', 'Vaccine': '36422', 'Population': '75949', 'Total Cases / 100k': '29614.6'}, {'County': 'Waller', 'Confirmed Cases': '9485', 'Probable Cases': '2147', 'Total Cases': '11632', 'Deaths': '112', 'Vaccine': '24447', 'Population': '54822', 'Total Cases / 100k': '21217.8'}, {'County': 'Ward', 'Confirmed Cases': '2435', 'Probable Cases': '884', 'Total Cases': '3319', 'Deaths': '50', 'Vaccine': '4369', 'Population': '11530', 'Total Cases / 100k': '28785.8'}, {'County': 'Washington', 'Confirmed Cases': '9303', 'Probable Cases': '1727', 'Total Cases': '11030', 'Deaths': '157', 'Vaccine': '18756', 'Population': '35570', 'Total Cases / 100k': '31009.3'}, {'County': 'Webb', 'Confirmed Cases': '98586', 'Probable Cases': '13127', 'Total Cases': '111713', 'Deaths': '1081', 'Vaccine': '310958', 'Population': '280775', 'Total Cases / 100k': '39787.4'}, {'County': 'Wharton', 'Confirmed Cases': '7961', 'Probable Cases': '3602', 'Total Cases': '11563', 'Deaths': '229', 'Vaccine': '22279', 'Population': '41224', 'Total Cases / 100k': '28049.2'}, {'County': 'Wheeler', 'Confirmed Cases': '1025', 'Probable Cases': '326', 'Total Cases': '1351', 'Deaths': '25', 'Vaccine': '2114', 'Population': '5178', 'Total Cases / 100k': '26091.2'}, {'County': 'Wichita', 'Confirmed Cases': '39601', 'Probable Cases': '1662', 'Total Cases': '41263', 'Deaths': '749', 'Vaccine': '61649', 'Population': '132920', 'Total Cases / 100k': '31043.5'}, {'County': 'Wilbarger', 'Confirmed Cases': '3313', 'Probable Cases': '941', 'Total Cases': '4254', 'Deaths': '91', 'Vaccine': '6705', 'Population': '12465', 'Total Cases / 100k': '34127.6'}, {'County': 'Willacy', 'Confirmed Cases': '6932', 'Probable Cases': '1824', 'Total Cases': '8756', 'Deaths': '137', 'Vaccine': '15068', 'Population': '21566', 'Total Cases / 100k': '40600.9'}, {'County': 'Williamson', 'Confirmed Cases': '135774', 'Probable Cases': '34599', 'Total Cases': '170373', 'Deaths': '940', 'Vaccine': '418728', 'Population': '589216', 'Total Cases / 100k': '28915.2'}, {'County': 'Wilson', 'Confirmed Cases': '8482', 'Probable Cases': '4354', 'Total Cases': '12836', 'Deaths': '167', 'Vaccine': '27130', 'Population': '52127', 'Total Cases / 100k': '24624.5'}, {'County': 'Winkler', 'Confirmed Cases': '1605', 'Probable Cases': '617', 'Total Cases': '2222', 'Deaths': '36', 'Vaccine': '3085', 'Population': '7990', 'Total Cases / 100k': '27809.8'}, {'County': 'Wise', 'Confirmed Cases': '16349', 'Probable Cases': '3319', 'Total Cases': '19668', 'Deaths': '285', 'Vaccine': '27928', 'Population': '69609', 'Total Cases / 100k': '28255.0'}, {'County': 'Wood', 'Confirmed Cases': '5742', 'Probable Cases': '4067', 'Total Cases': '9809', 'Deaths': '307', 'Vaccine': '20488', 'Population': '45084', 'Total Cases / 100k': '21757.2'}, {'County': 'Yoakum', 'Confirmed Cases': '1119', 'Probable Cases': '528', 'Total Cases': '1647', 'Deaths': '43', 'Vaccine': '3526', 'Population': '8829', 'Total Cases / 100k': '18654.4'}, {'County': 'Young', 'Confirmed Cases': '3778', 'Probable Cases': '707', 'Total Cases': '4485', 'Deaths': '102', 'Vaccine': '7516', 'Population': '19029', 'Total Cases / 100k': '23569.3'}, {'County': 'Zapata', 'Confirmed Cases': '2623', 'Probable Cases': '1888', 'Total Cases': '4511', 'Deaths': '57', 'Vaccine': '8613', 'Population': '14196', 'Total Cases / 100k': '31776.6'}, {'County': 'Zavala', 'Confirmed Cases': '3615', 'Probable Cases': '922', 'Total Cases': '4537', 'Deaths': '70', 'Vaccine': '6181', 'Population': '12116', 'Total Cases / 100k': '37446.4'}]\n"
     ]
    }
   ],
   "source": [
    "column_names = [\"County\", \"Confirmed Cases\", \"Probable Cases\",\n",
    "                \"Total Cases\", \"Deaths\", \"Vaccine\", \"Population\",\n",
    "                \"Total Cases / 100k\"]\n",
    "final_data = []\n",
    "\n",
    "for data in raw_data:\n",
    "    # do \\n stripping to remove leading and trailing \\n s\n",
    "    # split by \\n\\n\n",
    "    # append the split with your final_data\n",
    "    cells = data.split('\\n\\n')\n",
    "    clean_cells = [cell.strip().replace(',', '') for cell in cells]\n",
    "    row = dict(zip(column_names, clean_cells))\n",
    "    final_data.append(row)\n",
    "    \n",
    "final_data = final_data[:-2]\n",
    "\n",
    "print(final_data)"
   ]
  },
  {
   "cell_type": "markdown",
   "id": "5500615d",
   "metadata": {},
   "source": [
    "## - Convert to dataframe"
   ]
  },
  {
   "cell_type": "code",
   "execution_count": 13,
   "id": "a3539df1",
   "metadata": {},
   "outputs": [
    {
     "data": {
      "text/html": [
       "<div>\n",
       "<style scoped>\n",
       "    .dataframe tbody tr th:only-of-type {\n",
       "        vertical-align: middle;\n",
       "    }\n",
       "\n",
       "    .dataframe tbody tr th {\n",
       "        vertical-align: top;\n",
       "    }\n",
       "\n",
       "    .dataframe thead th {\n",
       "        text-align: right;\n",
       "    }\n",
       "</style>\n",
       "<table border=\"1\" class=\"dataframe\">\n",
       "  <thead>\n",
       "    <tr style=\"text-align: right;\">\n",
       "      <th></th>\n",
       "      <th>County</th>\n",
       "      <th>Confirmed Cases</th>\n",
       "      <th>Probable Cases</th>\n",
       "      <th>Total Cases</th>\n",
       "      <th>Deaths</th>\n",
       "      <th>Vaccine</th>\n",
       "      <th>Population</th>\n",
       "      <th>Total Cases / 100k</th>\n",
       "    </tr>\n",
       "  </thead>\n",
       "  <tbody>\n",
       "    <tr>\n",
       "      <th>0</th>\n",
       "      <td>Anderson</td>\n",
       "      <td>7336</td>\n",
       "      <td>3624</td>\n",
       "      <td>10960</td>\n",
       "      <td>256</td>\n",
       "      <td>24776</td>\n",
       "      <td>59025</td>\n",
       "      <td>18568.4</td>\n",
       "    </tr>\n",
       "    <tr>\n",
       "      <th>1</th>\n",
       "      <td>Andrews</td>\n",
       "      <td>3733</td>\n",
       "      <td>1357</td>\n",
       "      <td>5090</td>\n",
       "      <td>74</td>\n",
       "      <td>8366</td>\n",
       "      <td>19279</td>\n",
       "      <td>26401.8</td>\n",
       "    </tr>\n",
       "    <tr>\n",
       "      <th>2</th>\n",
       "      <td>Angelina</td>\n",
       "      <td>9891</td>\n",
       "      <td>7183</td>\n",
       "      <td>17074</td>\n",
       "      <td>503</td>\n",
       "      <td>40498</td>\n",
       "      <td>90989</td>\n",
       "      <td>18764.9</td>\n",
       "    </tr>\n",
       "    <tr>\n",
       "      <th>3</th>\n",
       "      <td>Aransas</td>\n",
       "      <td>4131</td>\n",
       "      <td>1415</td>\n",
       "      <td>5546</td>\n",
       "      <td>98</td>\n",
       "      <td>14327</td>\n",
       "      <td>23710</td>\n",
       "      <td>23391.0</td>\n",
       "    </tr>\n",
       "    <tr>\n",
       "      <th>4</th>\n",
       "      <td>Archer</td>\n",
       "      <td>2310</td>\n",
       "      <td>332</td>\n",
       "      <td>2642</td>\n",
       "      <td>30</td>\n",
       "      <td>4235</td>\n",
       "      <td>9228</td>\n",
       "      <td>28630.3</td>\n",
       "    </tr>\n",
       "  </tbody>\n",
       "</table>\n",
       "</div>"
      ],
      "text/plain": [
       "     County Confirmed Cases Probable Cases Total Cases Deaths Vaccine  \\\n",
       "0  Anderson            7336           3624       10960    256   24776   \n",
       "1   Andrews            3733           1357        5090     74    8366   \n",
       "2  Angelina            9891           7183       17074    503   40498   \n",
       "3   Aransas            4131           1415        5546     98   14327   \n",
       "4    Archer            2310            332        2642     30    4235   \n",
       "\n",
       "  Population Total Cases / 100k  \n",
       "0      59025            18568.4  \n",
       "1      19279            26401.8  \n",
       "2      90989            18764.9  \n",
       "3      23710            23391.0  \n",
       "4       9228            28630.3  "
      ]
     },
     "execution_count": 13,
     "metadata": {},
     "output_type": "execute_result"
    }
   ],
   "source": [
    "final_data = pandas.DataFrame(final_data)\n",
    "\n",
    "# Print a few elements in the dataframe\n",
    "final_data.head()"
   ]
  },
  {
   "cell_type": "markdown",
   "id": "840691f1",
   "metadata": {},
   "source": [
    "## - Data cleaning"
   ]
  },
  {
   "cell_type": "code",
   "execution_count": 14,
   "id": "0e48e56f",
   "metadata": {},
   "outputs": [
    {
     "name": "stdout",
     "output_type": "stream",
     "text": [
      " Number of duplicates before : 0\n",
      " Number of duplicates after removing : 0\n"
     ]
    }
   ],
   "source": [
    "number_of_duplicates = final_data.duplicated().sum()\n",
    "print (f\" Number of duplicates before : {number_of_duplicates}\")\n",
    "\n",
    "# Delete duplicate rows\n",
    "final_data = final_data.drop_duplicates()\n",
    "\n",
    "number_of_duplicates = final_data.duplicated().sum()\n",
    "print (f\" Number of duplicates after removing : {number_of_duplicates}\")"
   ]
  },
  {
   "cell_type": "markdown",
   "id": "03747676",
   "metadata": {},
   "source": [
    "## - Check the data status\n",
    "\n",
    "#### - The type of the columns should be changed to float except County for data analysis"
   ]
  },
  {
   "cell_type": "code",
   "execution_count": 15,
   "id": "ab615fe2",
   "metadata": {},
   "outputs": [
    {
     "name": "stdout",
     "output_type": "stream",
     "text": [
      "<class 'pandas.core.frame.DataFrame'>\n",
      "Int64Index: 254 entries, 0 to 253\n",
      "Data columns (total 8 columns):\n",
      " #   Column              Non-Null Count  Dtype \n",
      "---  ------              --------------  ----- \n",
      " 0   County              254 non-null    object\n",
      " 1   Confirmed Cases     254 non-null    object\n",
      " 2   Probable Cases      254 non-null    object\n",
      " 3   Total Cases         254 non-null    object\n",
      " 4   Deaths              254 non-null    object\n",
      " 5   Vaccine             254 non-null    object\n",
      " 6   Population          254 non-null    object\n",
      " 7   Total Cases / 100k  254 non-null    object\n",
      "dtypes: object(8)\n",
      "memory usage: 17.9+ KB\n"
     ]
    }
   ],
   "source": [
    "final_data.info()"
   ]
  },
  {
   "cell_type": "markdown",
   "id": "a1bc3559",
   "metadata": {},
   "source": [
    "#### - Change the data that should be float to float"
   ]
  },
  {
   "cell_type": "code",
   "execution_count": 18,
   "id": "d8896ea5",
   "metadata": {},
   "outputs": [
    {
     "data": {
      "text/html": [
       "<div>\n",
       "<style scoped>\n",
       "    .dataframe tbody tr th:only-of-type {\n",
       "        vertical-align: middle;\n",
       "    }\n",
       "\n",
       "    .dataframe tbody tr th {\n",
       "        vertical-align: top;\n",
       "    }\n",
       "\n",
       "    .dataframe thead th {\n",
       "        text-align: right;\n",
       "    }\n",
       "</style>\n",
       "<table border=\"1\" class=\"dataframe\">\n",
       "  <thead>\n",
       "    <tr style=\"text-align: right;\">\n",
       "      <th></th>\n",
       "      <th>County</th>\n",
       "      <th>Confirmed Cases</th>\n",
       "      <th>Probable Cases</th>\n",
       "      <th>Total Cases</th>\n",
       "      <th>Deaths</th>\n",
       "      <th>Vaccine</th>\n",
       "      <th>Population</th>\n",
       "      <th>Total Cases / 100k</th>\n",
       "    </tr>\n",
       "  </thead>\n",
       "  <tbody>\n",
       "    <tr>\n",
       "      <th>0</th>\n",
       "      <td>Anderson</td>\n",
       "      <td>7336.0</td>\n",
       "      <td>3624.0</td>\n",
       "      <td>10960.0</td>\n",
       "      <td>256.0</td>\n",
       "      <td>24776.0</td>\n",
       "      <td>59025.0</td>\n",
       "      <td>59025.0</td>\n",
       "    </tr>\n",
       "    <tr>\n",
       "      <th>1</th>\n",
       "      <td>Andrews</td>\n",
       "      <td>3733.0</td>\n",
       "      <td>1357.0</td>\n",
       "      <td>5090.0</td>\n",
       "      <td>74.0</td>\n",
       "      <td>8366.0</td>\n",
       "      <td>19279.0</td>\n",
       "      <td>19279.0</td>\n",
       "    </tr>\n",
       "    <tr>\n",
       "      <th>2</th>\n",
       "      <td>Angelina</td>\n",
       "      <td>9891.0</td>\n",
       "      <td>7183.0</td>\n",
       "      <td>17074.0</td>\n",
       "      <td>503.0</td>\n",
       "      <td>40498.0</td>\n",
       "      <td>90989.0</td>\n",
       "      <td>90989.0</td>\n",
       "    </tr>\n",
       "    <tr>\n",
       "      <th>3</th>\n",
       "      <td>Aransas</td>\n",
       "      <td>4131.0</td>\n",
       "      <td>1415.0</td>\n",
       "      <td>5546.0</td>\n",
       "      <td>98.0</td>\n",
       "      <td>14327.0</td>\n",
       "      <td>23710.0</td>\n",
       "      <td>23710.0</td>\n",
       "    </tr>\n",
       "    <tr>\n",
       "      <th>4</th>\n",
       "      <td>Archer</td>\n",
       "      <td>2310.0</td>\n",
       "      <td>332.0</td>\n",
       "      <td>2642.0</td>\n",
       "      <td>30.0</td>\n",
       "      <td>4235.0</td>\n",
       "      <td>9228.0</td>\n",
       "      <td>9228.0</td>\n",
       "    </tr>\n",
       "  </tbody>\n",
       "</table>\n",
       "</div>"
      ],
      "text/plain": [
       "     County  Confirmed Cases  Probable Cases  Total Cases  Deaths  Vaccine  \\\n",
       "0  Anderson           7336.0          3624.0      10960.0   256.0  24776.0   \n",
       "1   Andrews           3733.0          1357.0       5090.0    74.0   8366.0   \n",
       "2  Angelina           9891.0          7183.0      17074.0   503.0  40498.0   \n",
       "3   Aransas           4131.0          1415.0       5546.0    98.0  14327.0   \n",
       "4    Archer           2310.0           332.0       2642.0    30.0   4235.0   \n",
       "\n",
       "   Population  Total Cases / 100k  \n",
       "0     59025.0             59025.0  \n",
       "1     19279.0             19279.0  \n",
       "2     90989.0             90989.0  \n",
       "3     23710.0             23710.0  \n",
       "4      9228.0              9228.0  "
      ]
     },
     "execution_count": 18,
     "metadata": {},
     "output_type": "execute_result"
    }
   ],
   "source": [
    "def clearn_string_and_convert(s):\n",
    "    converted = float(s)\n",
    "    return converted\n",
    "\n",
    "#[\"County\", \"Confirmed Cases\", \"Probable Cases\",\"Total Cases\", \"Deaths\", \"Vaccine\", \"Population\",\"Total Cases / 100k\"]\n",
    "\n",
    "\n",
    "final_data[\"Confirmed Cases\"] = final_data[\"Confirmed Cases\"].apply(clearn_string_and_convert)\n",
    "final_data[\"Probable Cases\"] = final_data[\"Probable Cases\"].apply(clearn_string_and_convert)\n",
    "final_data[\"Total Cases\"] = final_data[\"Total Cases\"].apply(clearn_string_and_convert)\n",
    "final_data[\"Deaths\"] = final_data[\"Deaths\"].apply(clearn_string_and_convert)\n",
    "final_data[\"Vaccine\"] = final_data[\"Vaccine\"].apply(clearn_string_and_convert)\n",
    "final_data[\"Population\"] = final_data[\"Population\"].apply(clearn_string_and_convert)\n",
    "final_data[\"Total Cases / 100k\"] = final_data[\"Population\"].apply(clearn_string_and_convert)\n",
    "\n",
    "\n",
    "final_data.head()"
   ]
  },
  {
   "cell_type": "markdown",
   "id": "97bb4c12",
   "metadata": {},
   "source": [
    "#### - Now it is changed successfully"
   ]
  },
  {
   "cell_type": "code",
   "execution_count": 19,
   "id": "155086a1",
   "metadata": {},
   "outputs": [
    {
     "name": "stdout",
     "output_type": "stream",
     "text": [
      "<class 'pandas.core.frame.DataFrame'>\n",
      "Int64Index: 254 entries, 0 to 253\n",
      "Data columns (total 8 columns):\n",
      " #   Column              Non-Null Count  Dtype  \n",
      "---  ------              --------------  -----  \n",
      " 0   County              254 non-null    object \n",
      " 1   Confirmed Cases     254 non-null    float64\n",
      " 2   Probable Cases      254 non-null    float64\n",
      " 3   Total Cases         254 non-null    float64\n",
      " 4   Deaths              254 non-null    float64\n",
      " 5   Vaccine             254 non-null    float64\n",
      " 6   Population          254 non-null    float64\n",
      " 7   Total Cases / 100k  254 non-null    float64\n",
      "dtypes: float64(7), object(1)\n",
      "memory usage: 17.9+ KB\n"
     ]
    }
   ],
   "source": [
    "final_data.info()"
   ]
  },
  {
   "cell_type": "markdown",
   "id": "91293fdb",
   "metadata": {},
   "source": [
    "## - Store the DataFrame table on my local disk in csv file format"
   ]
  },
  {
   "cell_type": "code",
   "execution_count": 20,
   "id": "426eac75",
   "metadata": {},
   "outputs": [],
   "source": [
    "final_data.to_csv(\"COVID-19 pandemic medical cases in Texas by county.csv\")"
   ]
  },
  {
   "cell_type": "markdown",
   "id": "82386723",
   "metadata": {},
   "source": [
    "# Step 3: Analysis: Summary and visualizations"
   ]
  },
  {
   "cell_type": "markdown",
   "id": "3cb379fc",
   "metadata": {},
   "source": [
    "## - Setup (Import libraries)"
   ]
  },
  {
   "cell_type": "code",
   "execution_count": 21,
   "id": "95dce411",
   "metadata": {},
   "outputs": [
    {
     "name": "stdout",
     "output_type": "stream",
     "text": [
      "Imported all libraries successfully...\n"
     ]
    }
   ],
   "source": [
    "# Check if beautifulsoup and pandas are already installed\n",
    "# If not, install it and then import\n",
    "try:\n",
    "    import pandas as pd\n",
    "    import numpy as np\n",
    "    import scipy\n",
    "    from matplotlib import pyplot as plt\n",
    "    print (\"Imported all libraries successfully...\")\n",
    "except:\n",
    "    import sys\n",
    "    !conda install --yes --prefix {sys.prefix} numpy\n",
    "    !conda install --yes --prefix {sys.prefix} pandas\n",
    "    !conda install --yes --prefix {sys.prefix} matplotlib\n",
    "    !conda install --yes --prefix {sys.prefix} scipy\n",
    "    print (\"Some libraries not found, installing...\")"
   ]
  },
  {
   "cell_type": "markdown",
   "id": "f15014e5",
   "metadata": {},
   "source": [
    "## - Load the data I made "
   ]
  },
  {
   "cell_type": "code",
   "execution_count": 23,
   "id": "f25000bc",
   "metadata": {},
   "outputs": [
    {
     "name": "stdout",
     "output_type": "stream",
     "text": [
      "<class 'pandas.core.frame.DataFrame'>\n",
      "RangeIndex: 254 entries, 0 to 253\n",
      "Data columns (total 9 columns):\n",
      " #   Column              Non-Null Count  Dtype  \n",
      "---  ------              --------------  -----  \n",
      " 0   Unnamed: 0          254 non-null    int64  \n",
      " 1   County              254 non-null    object \n",
      " 2   Confirmed Cases     254 non-null    float64\n",
      " 3   Probable Cases      254 non-null    float64\n",
      " 4   Total Cases         254 non-null    float64\n",
      " 5   Deaths              254 non-null    float64\n",
      " 6   Vaccine             254 non-null    float64\n",
      " 7   Population          254 non-null    float64\n",
      " 8   Total Cases / 100k  254 non-null    float64\n",
      "dtypes: float64(7), int64(1), object(1)\n",
      "memory usage: 18.0+ KB\n"
     ]
    }
   ],
   "source": [
    "# Before starting, let's tell jupyter not to ignore any output that is supposed to be printed\n",
    "from IPython.core.interactiveshell import InteractiveShell\n",
    "InteractiveShell.ast_node_interactivity = \"all\"\n",
    "\n",
    "covid_df = pd.read_csv(\"COVID-19 pandemic medical cases in Texas by county.csv\")\n",
    "\n",
    "covid_df.info()"
   ]
  },
  {
   "cell_type": "markdown",
   "id": "8a4b3245",
   "metadata": {},
   "source": [
    "## - Print few rows to check"
   ]
  },
  {
   "cell_type": "code",
   "execution_count": 24,
   "id": "0df203e6",
   "metadata": {},
   "outputs": [
    {
     "data": {
      "text/html": [
       "<div>\n",
       "<style scoped>\n",
       "    .dataframe tbody tr th:only-of-type {\n",
       "        vertical-align: middle;\n",
       "    }\n",
       "\n",
       "    .dataframe tbody tr th {\n",
       "        vertical-align: top;\n",
       "    }\n",
       "\n",
       "    .dataframe thead th {\n",
       "        text-align: right;\n",
       "    }\n",
       "</style>\n",
       "<table border=\"1\" class=\"dataframe\">\n",
       "  <thead>\n",
       "    <tr style=\"text-align: right;\">\n",
       "      <th></th>\n",
       "      <th>Unnamed: 0</th>\n",
       "      <th>County</th>\n",
       "      <th>Confirmed Cases</th>\n",
       "      <th>Probable Cases</th>\n",
       "      <th>Total Cases</th>\n",
       "      <th>Deaths</th>\n",
       "      <th>Vaccine</th>\n",
       "      <th>Population</th>\n",
       "      <th>Total Cases / 100k</th>\n",
       "    </tr>\n",
       "  </thead>\n",
       "  <tbody>\n",
       "    <tr>\n",
       "      <th>0</th>\n",
       "      <td>0</td>\n",
       "      <td>Anderson</td>\n",
       "      <td>7336.0</td>\n",
       "      <td>3624.0</td>\n",
       "      <td>10960.0</td>\n",
       "      <td>256.0</td>\n",
       "      <td>24776.0</td>\n",
       "      <td>59025.0</td>\n",
       "      <td>59025.0</td>\n",
       "    </tr>\n",
       "    <tr>\n",
       "      <th>1</th>\n",
       "      <td>1</td>\n",
       "      <td>Andrews</td>\n",
       "      <td>3733.0</td>\n",
       "      <td>1357.0</td>\n",
       "      <td>5090.0</td>\n",
       "      <td>74.0</td>\n",
       "      <td>8366.0</td>\n",
       "      <td>19279.0</td>\n",
       "      <td>19279.0</td>\n",
       "    </tr>\n",
       "    <tr>\n",
       "      <th>2</th>\n",
       "      <td>2</td>\n",
       "      <td>Angelina</td>\n",
       "      <td>9891.0</td>\n",
       "      <td>7183.0</td>\n",
       "      <td>17074.0</td>\n",
       "      <td>503.0</td>\n",
       "      <td>40498.0</td>\n",
       "      <td>90989.0</td>\n",
       "      <td>90989.0</td>\n",
       "    </tr>\n",
       "    <tr>\n",
       "      <th>3</th>\n",
       "      <td>3</td>\n",
       "      <td>Aransas</td>\n",
       "      <td>4131.0</td>\n",
       "      <td>1415.0</td>\n",
       "      <td>5546.0</td>\n",
       "      <td>98.0</td>\n",
       "      <td>14327.0</td>\n",
       "      <td>23710.0</td>\n",
       "      <td>23710.0</td>\n",
       "    </tr>\n",
       "    <tr>\n",
       "      <th>4</th>\n",
       "      <td>4</td>\n",
       "      <td>Archer</td>\n",
       "      <td>2310.0</td>\n",
       "      <td>332.0</td>\n",
       "      <td>2642.0</td>\n",
       "      <td>30.0</td>\n",
       "      <td>4235.0</td>\n",
       "      <td>9228.0</td>\n",
       "      <td>9228.0</td>\n",
       "    </tr>\n",
       "  </tbody>\n",
       "</table>\n",
       "</div>"
      ],
      "text/plain": [
       "   Unnamed: 0    County  Confirmed Cases  Probable Cases  Total Cases  Deaths  \\\n",
       "0           0  Anderson           7336.0          3624.0      10960.0   256.0   \n",
       "1           1   Andrews           3733.0          1357.0       5090.0    74.0   \n",
       "2           2  Angelina           9891.0          7183.0      17074.0   503.0   \n",
       "3           3   Aransas           4131.0          1415.0       5546.0    98.0   \n",
       "4           4    Archer           2310.0           332.0       2642.0    30.0   \n",
       "\n",
       "   Vaccine  Population  Total Cases / 100k  \n",
       "0  24776.0     59025.0             59025.0  \n",
       "1   8366.0     19279.0             19279.0  \n",
       "2  40498.0     90989.0             90989.0  \n",
       "3  14327.0     23710.0             23710.0  \n",
       "4   4235.0      9228.0              9228.0  "
      ]
     },
     "execution_count": 24,
     "metadata": {},
     "output_type": "execute_result"
    }
   ],
   "source": [
    "covid_df.head()"
   ]
  },
  {
   "cell_type": "markdown",
   "id": "ee796ce0",
   "metadata": {},
   "source": [
    "# Step 3: Analysis: Summary and visualizations"
   ]
  },
  {
   "cell_type": "markdown",
   "id": "4237a147",
   "metadata": {},
   "source": [
    "## - Bivariate Analysis"
   ]
  },
  {
   "cell_type": "code",
   "execution_count": 54,
   "id": "efc82f38",
   "metadata": {},
   "outputs": [
    {
     "name": "stdout",
     "output_type": "stream",
     "text": [
      "0.9919549850148468\n"
     ]
    }
   ],
   "source": [
    "from scipy.stats import pearsonr\n",
    "\n",
    "p = pearsonr(covid_df[\"Total Cases\"],covid_df[\"Vaccine\"])\n",
    "print (p[0])"
   ]
  },
  {
   "cell_type": "code",
   "execution_count": 48,
   "id": "a6588567",
   "metadata": {},
   "outputs": [
    {
     "name": "stdout",
     "output_type": "stream",
     "text": [
      "0.9716693041208976\n"
     ]
    }
   ],
   "source": [
    "p = pearsonr(covid_df[\"Vaccine\"],covid_df[\"Deaths\"])\n",
    "print (p[0])"
   ]
  },
  {
   "cell_type": "markdown",
   "id": "d917c180",
   "metadata": {},
   "source": [
    "Both value above represents the corelation coefficient, whcih are 0.99 and 0.97. This means Total Cases is strongly correlated with vaccine, and Vaccine is correlated with deaths as well."
   ]
  },
  {
   "cell_type": "markdown",
   "id": "f7fa9b8e",
   "metadata": {},
   "source": [
    "## - Data visualization\n",
    "\n",
    "### I used scatter plot because I'm comparing two continuous vairables. "
   ]
  },
  {
   "cell_type": "code",
   "execution_count": 38,
   "id": "6555438d",
   "metadata": {},
   "outputs": [
    {
     "data": {
      "text/plain": [
       "<matplotlib.collections.PathCollection at 0x7fb0181d6f80>"
      ]
     },
     "execution_count": 38,
     "metadata": {},
     "output_type": "execute_result"
    },
    {
     "data": {
      "text/plain": [
       "Text(0.5, 0, 'Deaths')"
      ]
     },
     "execution_count": 38,
     "metadata": {},
     "output_type": "execute_result"
    },
    {
     "data": {
      "text/plain": [
       "Text(0, 0.5, 'Vaccine')"
      ]
     },
     "execution_count": 38,
     "metadata": {},
     "output_type": "execute_result"
    },
    {
     "data": {
      "text/plain": [
       "Text(0.5, 1.0, 'Deaths & Vaccine Relations')"
      ]
     },
     "execution_count": 38,
     "metadata": {},
     "output_type": "execute_result"
    },
    {
     "data": {
      "image/png": "[encoded data removed]",
      "text/plain": [
       "<Figure size 640x480 with 1 Axes>"
      ]
     },
     "metadata": {},
     "output_type": "display_data"
    }
   ],
   "source": [
    "deaths_column = covid_df[\"Deaths\"]\n",
    "vaccine_column = covid_df[\"Vaccine\"]\n",
    "\n",
    "plt.scatter(deaths_column,vaccine_column, marker=\"*\")\n",
    "\n",
    "plt.xlabel(\"Deaths\")\n",
    "plt.ylabel(\"Vaccine\")\n",
    "\n",
    "# We can add a title too\n",
    "plt.title(\"Deaths & Vaccine Relations\")"
   ]
  },
  {
   "cell_type": "code",
   "execution_count": 44,
   "id": "dbd6cdc3",
   "metadata": {},
   "outputs": [
    {
     "data": {
      "text/plain": [
       "<matplotlib.collections.PathCollection at 0x7fb0419a6fb0>"
      ]
     },
     "execution_count": 44,
     "metadata": {},
     "output_type": "execute_result"
    },
    {
     "data": {
      "text/plain": [
       "Text(0.5, 0, 'Total Cases')"
      ]
     },
     "execution_count": 44,
     "metadata": {},
     "output_type": "execute_result"
    },
    {
     "data": {
      "text/plain": [
       "Text(0, 0.5, 'Vaccine')"
      ]
     },
     "execution_count": 44,
     "metadata": {},
     "output_type": "execute_result"
    },
    {
     "data": {
      "text/plain": [
       "Text(0.5, 1.0, 'Total Cases & Vaccine Relations')"
      ]
     },
     "execution_count": 44,
     "metadata": {},
     "output_type": "execute_result"
    },
    {
     "data": {
      "image/png": "[encoded data removed]",
      "text/plain": [
       "<Figure size 640x480 with 1 Axes>"
      ]
     },
     "metadata": {},
     "output_type": "display_data"
    }
   ],
   "source": [
    "Total_Cases_column = covid_df[\"Total Cases\"]\n",
    "Vaccine_column = covid_df[\"Vaccine\"]\n",
    "\n",
    "plt.scatter(Total_Cases_column,Vaccine_column, marker=\"*\")\n",
    "\n",
    "plt.xlabel(\"Total Cases\")\n",
    "plt.ylabel(\"Vaccine\")\n",
    "\n",
    "# We can add a title too\n",
    "plt.title(\"Total Cases & Vaccine Relations\")"
   ]
  },
  {
   "cell_type": "markdown",
   "id": "fd648f0f",
   "metadata": {},
   "source": [
    "## Summary"
   ]
  },
  {
   "cell_type": "markdown",
   "id": "7fe62f82",
   "metadata": {},
   "source": [
    "I expected the vaccine will be negatively correlated to death or total cases. However, contrary to my expectation, the bivariate analysis found that it was highly positively correlated. To analyze this more visually, the two relationships were made into a scatter plot, but the results were the same. Both graphs go up to the right. However, both seem to have a lot of data concentrated on the side of zero. Therefore, the conclusion that vaccines have not helped reduce deaths or coronavirus cases in people living in Texas is completely wrong. Considering that this is a fairly recent result, I could come to a different conclusion. The results of this data analysis can be interpreted as more cases, more people die, and as a result, more people are vaccinated."
   ]
  }
 ],
 "metadata": {
  "kernelspec": {
   "display_name": "Python 3 (ipykernel)",
   "language": "python",
   "name": "python3"
  },
  "language_info": {
   "codemirror_mode": {
    "name": "ipython",
    "version": 3
   },
   "file_extension": ".py",
   "mimetype": "text/x-python",
   "name": "python",
   "nbconvert_exporter": "python",
   "pygments_lexer": "ipython3",
   "version": "3.10.9"
  }
 },
 "nbformat": 4,
 "nbformat_minor": 5
}
